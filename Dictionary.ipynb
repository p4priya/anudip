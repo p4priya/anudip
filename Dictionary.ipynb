{
 "cells": [
  {
   "cell_type": "code",
   "execution_count": 1,
   "id": "6b15a4ad-35ef-4c8b-b9b2-f297c8cd9453",
   "metadata": {},
   "outputs": [],
   "source": [
    "#dictionary\n",
    "student={\"name\":\"priya\",\"age\":22,\"course\":\"BCA\"}\n"
   ]
  },
  {
   "cell_type": "code",
   "execution_count": 3,
   "id": "e9ac3a0c-46ac-4db8-8b67-7149cbeb8986",
   "metadata": {},
   "outputs": [],
   "source": [
    "house={\"water\":\"blue whale\",\"land\":\"leapard\"}\n"
   ]
  },
  {
   "cell_type": "code",
   "execution_count": 4,
   "id": "5a4ee5bf-b4ac-4838-ab53-5388b8e8df1f",
   "metadata": {},
   "outputs": [],
   "source": [
    "#variables\n",
    "a=10\n"
   ]
  },
  {
   "cell_type": "code",
   "execution_count": 8,
   "id": "57fcebf7-eac4-45b6-b3bd-150ede689466",
   "metadata": {},
   "outputs": [],
   "source": [
    "myvariable=25\n"
   ]
  },
  {
   "cell_type": "code",
   "execution_count": 9,
   "id": "1bb2dd2b-590e-455b-84cd-71df99e34d55",
   "metadata": {},
   "outputs": [],
   "source": [
    "my_variable=23"
   ]
  },
  {
   "cell_type": "code",
   "execution_count": 10,
   "id": "8f89dbc5-99e7-4108-809a-62e05dec700a",
   "metadata": {},
   "outputs": [],
   "source": [
    "user_age=25"
   ]
  },
  {
   "cell_type": "code",
   "execution_count": 11,
   "id": "e7be0cb4-152e-4d8d-9bb4-362b0665ffa0",
   "metadata": {},
   "outputs": [],
   "source": [
    "age=22\n",
    "name=\"priya\"\n",
    "\n"
   ]
  },
  {
   "cell_type": "code",
   "execution_count": 43,
   "id": "00702080-be94-4cdf-b99f-8e4d4c4b2472",
   "metadata": {},
   "outputs": [],
   "source": [
    "user_name=\"priya\"\n",
    "user_name2=\"Sri\""
   ]
  },
  {
   "cell_type": "code",
   "execution_count": 49,
   "id": "fdca208e-1e9a-43a0-94dd-1d4f6e57d5f5",
   "metadata": {},
   "outputs": [],
   "source": [
    "#variables=variable names must start with letter or underscore\n",
    "user_name=\"priya\"\n",
    "user_age=22\n",
    "user_email=\"sri123@gmail\"\n"
   ]
  },
  {
   "cell_type": "code",
   "execution_count": 12,
   "id": "6bf5a1eb-19c0-4283-bc0b-a80a5be2b7a5",
   "metadata": {},
   "outputs": [
    {
     "name": "stdout",
     "output_type": "stream",
     "text": [
      "priya\n"
     ]
    }
   ],
   "source": [
    "#comments\n",
    "#it is a note in the code\n",
    "print(\"priya\")"
   ]
  },
  {
   "cell_type": "code",
   "execution_count": 13,
   "id": "77354224-00c6-4874-b666-e1f6359fc8c0",
   "metadata": {},
   "outputs": [],
   "source": [
    "#a=10 single line comment\n"
   ]
  },
  {
   "cell_type": "code",
   "execution_count": 14,
   "id": "0427b7b2-f00b-4b49-9102-4bac517fe3a6",
   "metadata": {},
   "outputs": [
    {
     "data": {
      "text/plain": [
       "' this is a multiline comment '"
      ]
     },
     "execution_count": 14,
     "metadata": {},
     "output_type": "execute_result"
    }
   ],
   "source": [
    "\"\"\" this is a multiline comment \"\"\""
   ]
  },
  {
   "cell_type": "code",
   "execution_count": 15,
   "id": "ca33ff59-f0f9-4360-93fd-84e346aed6de",
   "metadata": {},
   "outputs": [],
   "source": [
    "# welcome to my website"
   ]
  },
  {
   "cell_type": "code",
   "execution_count": 16,
   "id": "435ad231-73f7-4267-a2ee-ca4cd6788cd9",
   "metadata": {},
   "outputs": [
    {
     "name": "stdout",
     "output_type": "stream",
     "text": [
      "this is a keyword\n"
     ]
    }
   ],
   "source": [
    "if True:\n",
    "    print(\"this is a keyword\")"
   ]
  },
  {
   "cell_type": "code",
   "execution_count": 17,
   "id": "aff0a7a2-c30b-4dfa-88f5-1b495d99d028",
   "metadata": {},
   "outputs": [],
   "source": [
    "var=20"
   ]
  },
  {
   "cell_type": "code",
   "execution_count": 18,
   "id": "735ff1a3-cf5c-499a-b912-7c16e5238ed3",
   "metadata": {},
   "outputs": [],
   "source": [
    "#identifiers\n",
    "my_salary=500000"
   ]
  },
  {
   "cell_type": "code",
   "execution_count": 19,
   "id": "527ea6c7-8e9c-4888-8e75-5c80679ed1e2",
   "metadata": {},
   "outputs": [],
   "source": [
    "user_name =\"priya\"\n"
   ]
  },
  {
   "cell_type": "code",
   "execution_count": 21,
   "id": "8864d879-be83-439e-976b-72cd44c933d2",
   "metadata": {},
   "outputs": [
    {
     "name": "stdout",
     "output_type": "stream",
     "text": [
      "what is your name Priya\n"
     ]
    }
   ],
   "source": [
    "name=input(\"what is your name\")\n"
   ]
  },
  {
   "cell_type": "code",
   "execution_count": 3,
   "id": "53a0332b-5ea0-4d6a-96f5-578307840d35",
   "metadata": {},
   "outputs": [
    {
     "name": "stdout",
     "output_type": "stream",
     "text": [
      "priya\n"
     ]
    }
   ],
   "source": [
    "name=input()\n"
   ]
  },
  {
   "cell_type": "code",
   "execution_count": 4,
   "id": "dcbd8ee0-8aac-4cbb-95b0-b8badc1f72c7",
   "metadata": {},
   "outputs": [
    {
     "name": "stdout",
     "output_type": "stream",
     "text": [
      "namepriya\n",
      "password:sri123\n"
     ]
    }
   ],
   "source": [
    "user_name= input(\"name\")\n",
    "user_password= input(\"password:\")\n"
   ]
  },
  {
   "cell_type": "code",
   "execution_count": 5,
   "id": "8ba63f34-481a-4100-9f28-7c2611c15acc",
   "metadata": {},
   "outputs": [
    {
     "name": "stdout",
     "output_type": "stream",
     "text": [
      "name:priya\n",
      "password:sri123\n",
      "age:22\n"
     ]
    }
   ],
   "source": [
    "user_name= input(\"name:\")\n",
    "user_password= input(\"password:\")\n",
    "user_age=input(\"age:\")"
   ]
  },
  {
   "cell_type": "code",
   "execution_count": 6,
   "id": "f1cb8254-a4c4-4d81-a334-3ff344d8d238",
   "metadata": {},
   "outputs": [
    {
     "name": "stdout",
     "output_type": "stream",
     "text": [
      "enter first number10\n"
     ]
    }
   ],
   "source": [
    "num1 = int(input(\"enter first number\"))\n",
    "\n"
   ]
  },
  {
   "cell_type": "code",
   "execution_count": 7,
   "id": "c96f9540-d943-480e-98ee-1ea302610663",
   "metadata": {},
   "outputs": [
    {
     "name": "stdout",
     "output_type": "stream",
     "text": [
      "enter second number20\n"
     ]
    }
   ],
   "source": [
    "num2 = int(input(\"enter second number\"))\n"
   ]
  },
  {
   "cell_type": "code",
   "execution_count": 8,
   "id": "231b8a23-8d49-4b5a-a86f-e41767de1a28",
   "metadata": {},
   "outputs": [
    {
     "data": {
      "text/plain": [
       "10"
      ]
     },
     "execution_count": 8,
     "metadata": {},
     "output_type": "execute_result"
    }
   ],
   "source": [
    "num1\n",
    "\n"
   ]
  },
  {
   "cell_type": "code",
   "execution_count": 9,
   "id": "b49f72cc-1e1b-4a29-af6a-dcc93125e927",
   "metadata": {},
   "outputs": [
    {
     "data": {
      "text/plain": [
       "20"
      ]
     },
     "execution_count": 9,
     "metadata": {},
     "output_type": "execute_result"
    }
   ],
   "source": [
    "num2"
   ]
  },
  {
   "cell_type": "code",
   "execution_count": null,
   "id": "7a605c8c-8ee3-49cc-952e-ee544f7aafab",
   "metadata": {},
   "outputs": [],
   "source": [
    "num1=float(input(\"enter the number\"))"
   ]
  },
  {
   "cell_type": "code",
   "execution_count": null,
   "id": "1c55125d-5fec-4dd2-880c-2efe01b1cc9b",
   "metadata": {},
   "outputs": [],
   "source": [
    "num1"
   ]
  },
  {
   "cell_type": "code",
   "execution_count": null,
   "id": "564d3238-71b5-462d-a47a-289d4e682d3b",
   "metadata": {},
   "outputs": [],
   "source": [
    "num2=float(input(\"enter the number\"))\n"
   ]
  },
  {
   "cell_type": "code",
   "execution_count": null,
   "id": "0d811f43-0442-4a38-a373-4a7ba1350119",
   "metadata": {},
   "outputs": [],
   "source": [
    "num2"
   ]
  },
  {
   "cell_type": "code",
   "execution_count": null,
   "id": "e47420f0-e3b9-4c90-ba0c-3858dc5a2c9d",
   "metadata": {},
   "outputs": [],
   "source": [
    "num1=int(input(\"enter first number\"))\n",
    "num2 = int(input(\"enter second number\"))\n",
    "type(num1)"
   ]
  },
  {
   "cell_type": "code",
   "execution_count": null,
   "id": "8cc4ea04-d079-4955-a962-03aa06a455f3",
   "metadata": {},
   "outputs": [],
   "source": []
  }
 ],
 "metadata": {
  "kernelspec": {
   "display_name": "Python 3 (ipykernel)",
   "language": "python",
   "name": "python3"
  },
  "language_info": {
   "codemirror_mode": {
    "name": "ipython",
    "version": 3
   },
   "file_extension": ".py",
   "mimetype": "text/x-python",
   "name": "python",
   "nbconvert_exporter": "python",
   "pygments_lexer": "ipython3",
   "version": "3.9.12"
  }
 },
 "nbformat": 4,
 "nbformat_minor": 5
}
