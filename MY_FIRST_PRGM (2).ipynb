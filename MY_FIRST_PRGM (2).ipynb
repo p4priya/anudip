{
 "cells": [
  {
   "cell_type": "code",
   "execution_count": 9,
   "id": "42d0bd91",
   "metadata": {},
   "outputs": [
    {
     "name": "stdout",
     "output_type": "stream",
     "text": [
      "hello world\n"
     ]
    }
   ],
   "source": [
    "print(\"hello world\")"
   ]
  },
  {
   "cell_type": "code",
   "execution_count": 10,
   "id": "529336c6",
   "metadata": {},
   "outputs": [
    {
     "name": "stdout",
     "output_type": "stream",
     "text": [
      "hello\n"
     ]
    }
   ],
   "source": [
    "print(\"hello\")"
   ]
  },
  {
   "cell_type": "markdown",
   "id": "3b3eaf66",
   "metadata": {},
   "source": [
    "# welcome"
   ]
  },
  {
   "cell_type": "markdown",
   "id": "b8d8acdf",
   "metadata": {},
   "source": [
    "## Welcome"
   ]
  },
  {
   "cell_type": "markdown",
   "id": "8a90986c",
   "metadata": {},
   "source": [
    "### welcome"
   ]
  },
  {
   "cell_type": "code",
   "execution_count": 11,
   "id": "4ffbf30f",
   "metadata": {},
   "outputs": [],
   "source": [
    "#case sensitive\n",
    "\n",
    "a=10\n",
    "A=50"
   ]
  },
  {
   "cell_type": "code",
   "execution_count": 12,
   "id": "6ab5d102",
   "metadata": {},
   "outputs": [
    {
     "name": "stdout",
     "output_type": "stream",
     "text": [
      "hello world\n"
     ]
    }
   ],
   "source": [
    "print(\"hello world\")"
   ]
  },
  {
   "cell_type": "code",
   "execution_count": 13,
   "id": "f6aeab42",
   "metadata": {},
   "outputs": [
    {
     "name": "stdout",
     "output_type": "stream",
     "text": [
      "7\n"
     ]
    }
   ],
   "source": [
    "print(7)"
   ]
  },
  {
   "cell_type": "code",
   "execution_count": 14,
   "id": "8c360246",
   "metadata": {},
   "outputs": [
    {
     "name": "stdout",
     "output_type": "stream",
     "text": [
      "7.7\n"
     ]
    }
   ],
   "source": [
    "print(7.7)"
   ]
  },
  {
   "cell_type": "code",
   "execution_count": 15,
   "id": "77267f2d",
   "metadata": {},
   "outputs": [
    {
     "name": "stdout",
     "output_type": "stream",
     "text": [
      "True\n"
     ]
    }
   ],
   "source": [
    "print(True)"
   ]
  },
  {
   "cell_type": "code",
   "execution_count": 16,
   "id": "57cb72db",
   "metadata": {},
   "outputs": [
    {
     "name": "stdout",
     "output_type": "stream",
     "text": [
      "hello 5 7.7 True\n"
     ]
    }
   ],
   "source": [
    "print('hello',5,7.7,True)"
   ]
  },
  {
   "cell_type": "code",
   "execution_count": 17,
   "id": "57342c4d",
   "metadata": {},
   "outputs": [
    {
     "name": "stdout",
     "output_type": "stream",
     "text": [
      "hello_world\n"
     ]
    }
   ],
   "source": [
    "print('hello',end='_')\n",
    "print('world')"
   ]
  },
  {
   "cell_type": "code",
   "execution_count": 18,
   "id": "c9a9f40e",
   "metadata": {},
   "outputs": [
    {
     "name": "stdout",
     "output_type": "stream",
     "text": [
      "hello*******priya\n"
     ]
    }
   ],
   "source": [
    "print('hello',end='*******')\n",
    "print(\"priya\")"
   ]
  },
  {
   "cell_type": "code",
   "execution_count": 19,
   "id": "67c7e38d",
   "metadata": {},
   "outputs": [
    {
     "name": "stdout",
     "output_type": "stream",
     "text": [
      "hellonotworld\n",
      "python\n"
     ]
    }
   ],
   "source": [
    "print(\"hello\",end='not')\n",
    "print(\"world\")\n",
    "print(\"python\")"
   ]
  },
  {
   "cell_type": "markdown",
   "id": "6cc8ea0d",
   "metadata": {},
   "source": [
    "# Datatypes"
   ]
  },
  {
   "cell_type": "markdown",
   "id": "4f940c2c",
   "metadata": {},
   "source": [
    "## Integer : It is a whole number"
   ]
  },
  {
   "cell_type": "code",
   "execution_count": 20,
   "id": "1c82f219",
   "metadata": {},
   "outputs": [],
   "source": [
    "age = 25"
   ]
  },
  {
   "cell_type": "code",
   "execution_count": 21,
   "id": "f8139fc0",
   "metadata": {},
   "outputs": [
    {
     "data": {
      "text/plain": [
       "int"
      ]
     },
     "execution_count": 21,
     "metadata": {},
     "output_type": "execute_result"
    }
   ],
   "source": [
    "type(age)"
   ]
  },
  {
   "cell_type": "markdown",
   "id": "5f0706b8",
   "metadata": {},
   "source": [
    "## Float  : It include decimal points"
   ]
  },
  {
   "cell_type": "code",
   "execution_count": 22,
   "id": "5c8505fb",
   "metadata": {},
   "outputs": [],
   "source": [
    "price = 99.99\n",
    "pi = 3.14"
   ]
  },
  {
   "cell_type": "code",
   "execution_count": 23,
   "id": "62913fb1",
   "metadata": {},
   "outputs": [
    {
     "data": {
      "text/plain": [
       "float"
      ]
     },
     "execution_count": 23,
     "metadata": {},
     "output_type": "execute_result"
    }
   ],
   "source": [
    "type(price)"
   ]
  },
  {
   "cell_type": "code",
   "execution_count": 24,
   "id": "b8cc855c",
   "metadata": {},
   "outputs": [
    {
     "data": {
      "text/plain": [
       "float"
      ]
     },
     "execution_count": 24,
     "metadata": {},
     "output_type": "execute_result"
    }
   ],
   "source": [
    "type(11.99)"
   ]
  },
  {
   "cell_type": "markdown",
   "id": "98a96a3f",
   "metadata": {},
   "source": [
    "## boolean values"
   ]
  },
  {
   "cell_type": "code",
   "execution_count": 25,
   "id": "5bfcb514",
   "metadata": {},
   "outputs": [
    {
     "data": {
      "text/plain": [
       "bool"
      ]
     },
     "execution_count": 25,
     "metadata": {},
     "output_type": "execute_result"
    }
   ],
   "source": [
    "is_sunny = True\n",
    "type(is_sunny)"
   ]
  },
  {
   "cell_type": "markdown",
   "id": "9902df99",
   "metadata": {},
   "source": [
    "## Strings\n"
   ]
  },
  {
   "cell_type": "code",
   "execution_count": 26,
   "id": "ab94fb08",
   "metadata": {},
   "outputs": [
    {
     "data": {
      "text/plain": [
       "str"
      ]
     },
     "execution_count": 26,
     "metadata": {},
     "output_type": "execute_result"
    }
   ],
   "source": [
    "name = \"Priya nagendra\"\n",
    "greeting = (\"good morning\")\n",
    "type(name)"
   ]
  },
  {
   "cell_type": "markdown",
   "id": "60ebd18d",
   "metadata": {},
   "source": [
    "## Complex"
   ]
  },
  {
   "cell_type": "markdown",
   "id": "4d070e03",
   "metadata": {},
   "source": [
    "### A complex number is a number composed of a real part and imaginary part"
   ]
  },
  {
   "cell_type": "code",
   "execution_count": 27,
   "id": "367fed89",
   "metadata": {},
   "outputs": [
    {
     "data": {
      "text/plain": [
       "complex"
      ]
     },
     "execution_count": 27,
     "metadata": {},
     "output_type": "execute_result"
    }
   ],
   "source": [
    "z = 3 + 2j\n",
    "type(z)"
   ]
  },
  {
   "cell_type": "markdown",
   "id": "07e19919",
   "metadata": {},
   "source": [
    "## List: a list is a collection of items .it is mutable"
   ]
  },
  {
   "cell_type": "code",
   "execution_count": 28,
   "id": "6c98ba79",
   "metadata": {},
   "outputs": [
    {
     "data": {
      "text/plain": [
       "list"
      ]
     },
     "execution_count": 28,
     "metadata": {},
     "output_type": "execute_result"
    }
   ],
   "source": [
    "lis = [\"apple\",\"banana\"]\n",
    "numbers = [1,2]\n",
    "mixed = [1, \"apple\",3.5,True]\n",
    "type(lis)"
   ]
  },
  {
   "cell_type": "markdown",
   "id": "6b80ffa3",
   "metadata": {},
   "source": [
    "## Tuple: a tuple is an order collection of items which can be a different data type enclosed in a parameters immutable"
   ]
  },
  {
   "cell_type": "code",
   "execution_count": 29,
   "id": "6242c745",
   "metadata": {},
   "outputs": [
    {
     "data": {
      "text/plain": [
       "tuple"
      ]
     },
     "execution_count": 29,
     "metadata": {},
     "output_type": "execute_result"
    }
   ],
   "source": [
    "point = (3,4)\n",
    "person = (\"priya\", 30, \"manu\")\n",
    "colours = (\"Red\",\"Green\")\n",
    "type(point)"
   ]
  },
  {
   "cell_type": "markdown",
   "id": "09208350",
   "metadata": {},
   "source": [
    "## SET :\n",
    "### it is a unorder collection of unpair items, enclosed in curly braces , remove duplication"
   ]
  },
  {
   "cell_type": "code",
   "execution_count": 30,
   "id": "1e7901bb",
   "metadata": {},
   "outputs": [],
   "source": [
    "unique_number = {1,2,3,4,5}\n",
    "fruit = {\"apple\",\"banana\",\"cherry\"}\n"
   ]
  },
  {
   "cell_type": "code",
   "execution_count": 31,
   "id": "1f521e40",
   "metadata": {},
   "outputs": [
    {
     "data": {
      "text/plain": [
       "{1, 2, 3, 4, 5}"
      ]
     },
     "execution_count": 31,
     "metadata": {},
     "output_type": "execute_result"
    }
   ],
   "source": [
    "unique_number"
   ]
  },
  {
   "cell_type": "code",
   "execution_count": 32,
   "id": "14b11584",
   "metadata": {},
   "outputs": [
    {
     "data": {
      "text/plain": [
       "set"
      ]
     },
     "execution_count": 32,
     "metadata": {},
     "output_type": "execute_result"
    }
   ],
   "source": [
    "type(fruit)"
   ]
  },
  {
   "cell_type": "markdown",
   "id": "16c19808",
   "metadata": {},
   "source": [
    "# Dictionary"
   ]
  },
  {
   "cell_type": "markdown",
   "id": "f4157d87",
   "metadata": {},
   "source": [
    "## a dictionary is an unordered collection of key-value pairs. it is immutable"
   ]
  },
  {
   "cell_type": "code",
   "execution_count": 33,
   "id": "8f800e04",
   "metadata": {},
   "outputs": [],
   "source": [
    "student = {\"name\": \"Alice\", \"age\": 22, \"major\": \"computer science\"}\n",
    "price = {\"apple\": 1.2, \"banana\": 0.5, \"cherry\":2.5}"
   ]
  },
  {
   "cell_type": "code",
   "execution_count": 34,
   "id": "72c532db",
   "metadata": {},
   "outputs": [],
   "source": [
    "student = {\"Name\":[\"Raj\",\"Alice\"], \"age\": [22,20]}\n"
   ]
  },
  {
   "cell_type": "code",
   "execution_count": 35,
   "id": "931cd37f",
   "metadata": {},
   "outputs": [
    {
     "data": {
      "text/plain": [
       "{'Name': ['Raj', 'Alice'], 'age': [22, 20]}"
      ]
     },
     "execution_count": 35,
     "metadata": {},
     "output_type": "execute_result"
    }
   ],
   "source": [
    "student"
   ]
  },
  {
   "cell_type": "code",
   "execution_count": 36,
   "id": "ba6457a2",
   "metadata": {},
   "outputs": [],
   "source": [
    "movie = {\"name\": [\"kantara\",\"appu\",\"abhi\"]}"
   ]
  },
  {
   "cell_type": "code",
   "execution_count": 37,
   "id": "80227f0e",
   "metadata": {},
   "outputs": [
    {
     "data": {
      "text/plain": [
       "{'name': ['kantara', 'appu', 'abhi']}"
      ]
     },
     "execution_count": 37,
     "metadata": {},
     "output_type": "execute_result"
    }
   ],
   "source": [
    "movie"
   ]
  },
  {
   "cell_type": "code",
   "execution_count": 13,
   "id": "42cd0159",
   "metadata": {},
   "outputs": [],
   "source": [
    "college = {\"name\": ['MCU', 'NPUC', 'SVVK']}"
   ]
  },
  {
   "cell_type": "code",
   "execution_count": 14,
   "id": "a0aa8115",
   "metadata": {
    "scrolled": true
   },
   "outputs": [
    {
     "data": {
      "text/plain": [
       "{'name': ['MCU', 'NPUC', 'SVVK']}"
      ]
     },
     "execution_count": 14,
     "metadata": {},
     "output_type": "execute_result"
    }
   ],
   "source": [
    "college"
   ]
  },
  {
   "cell_type": "markdown",
   "id": "f0b829f1",
   "metadata": {},
   "source": [
    "## variables"
   ]
  },
  {
   "cell_type": "markdown",
   "id": "09d8f1d5",
   "metadata": {},
   "source": [
    "### a variable is a named location in memory used to store a value that can be changed during program"
   ]
  },
  {
   "cell_type": "markdown",
   "id": "0685e3c1",
   "metadata": {},
   "source": [
    "### rules for declaring a variable"
   ]
  },
  {
   "cell_type": "markdown",
   "id": "f134267b",
   "metadata": {},
   "source": [
    "### variable names must start with a letter (a-z,A-Z) or an underscore"
   ]
  },
  {
   "cell_type": "code",
   "execution_count": 15,
   "id": "93ea2b59",
   "metadata": {},
   "outputs": [],
   "source": [
    "variable_name = 10"
   ]
  },
  {
   "cell_type": "markdown",
   "id": "7dfb2ced",
   "metadata": {},
   "source": [
    "### after the intial character, variables names can contein letters ,numbers and underscore"
   ]
  },
  {
   "cell_type": "code",
   "execution_count": 16,
   "id": "14f02151",
   "metadata": {},
   "outputs": [],
   "source": [
    "student_roll_number = 250"
   ]
  },
  {
   "cell_type": "code",
   "execution_count": 17,
   "id": "11c53035",
   "metadata": {},
   "outputs": [],
   "source": [
    "strdroll = 25"
   ]
  },
  {
   "cell_type": "code",
   "execution_count": 19,
   "id": "f933b929",
   "metadata": {},
   "outputs": [],
   "source": [
    "myVariable = 260"
   ]
  },
  {
   "cell_type": "code",
   "execution_count": 20,
   "id": "3eba98e6",
   "metadata": {},
   "outputs": [
    {
     "data": {
      "text/plain": [
       "260"
      ]
     },
     "execution_count": 20,
     "metadata": {},
     "output_type": "execute_result"
    }
   ],
   "source": [
    "myVariable"
   ]
  },
  {
   "cell_type": "code",
   "execution_count": 21,
   "id": "ab14016e",
   "metadata": {},
   "outputs": [],
   "source": [
    "user_age = 30"
   ]
  },
  {
   "cell_type": "code",
   "execution_count": 22,
   "id": "04663e87",
   "metadata": {},
   "outputs": [],
   "source": [
    "roll_number = 110"
   ]
  },
  {
   "cell_type": "code",
   "execution_count": 23,
   "id": "7a9d3497",
   "metadata": {},
   "outputs": [
    {
     "data": {
      "text/plain": [
       "110"
      ]
     },
     "execution_count": 23,
     "metadata": {},
     "output_type": "execute_result"
    }
   ],
   "source": [
    "roll_number"
   ]
  },
  {
   "cell_type": "code",
   "execution_count": 24,
   "id": "3e04bd19",
   "metadata": {},
   "outputs": [],
   "source": [
    "age = 22"
   ]
  },
  {
   "cell_type": "code",
   "execution_count": 25,
   "id": "6356ed11",
   "metadata": {},
   "outputs": [
    {
     "data": {
      "text/plain": [
       "22"
      ]
     },
     "execution_count": 25,
     "metadata": {},
     "output_type": "execute_result"
    }
   ],
   "source": [
    "age"
   ]
  },
  {
   "cell_type": "markdown",
   "id": "d93aaa70",
   "metadata": {},
   "source": [
    "### python keywords(reserved wwords with special meanings in language)"
   ]
  },
  {
   "cell_type": "code",
   "execution_count": 26,
   "id": "04b091b3",
   "metadata": {},
   "outputs": [],
   "source": [
    "for_4 = 44"
   ]
  },
  {
   "cell_type": "code",
   "execution_count": 1,
   "id": "72b512fa",
   "metadata": {},
   "outputs": [],
   "source": [
    "for_4 = 23"
   ]
  },
  {
   "cell_type": "code",
   "execution_count": 2,
   "id": "cf910246",
   "metadata": {},
   "outputs": [
    {
     "ename": "SyntaxError",
     "evalue": "invalid syntax (2607967547.py, line 1)",
     "output_type": "error",
     "traceback": [
      "\u001b[1;36m  Input \u001b[1;32mIn [2]\u001b[1;36m\u001b[0m\n\u001b[1;33m    is = 225\u001b[0m\n\u001b[1;37m    ^\u001b[0m\n\u001b[1;31mSyntaxError\u001b[0m\u001b[1;31m:\u001b[0m invalid syntax\n"
     ]
    }
   ],
   "source": [
    "is = 225"
   ]
  },
  {
   "cell_type": "markdown",
   "id": "2349648f",
   "metadata": {},
   "source": [
    "### variables names should be descriptive and meaningfuk, providing some indication some indication of the purpose or content of the variable"
   ]
  },
  {
   "cell_type": "code",
   "execution_count": 29,
   "id": "8b4e6dcf",
   "metadata": {},
   "outputs": [],
   "source": [
    "saturday_sales = 15555"
   ]
  },
  {
   "cell_type": "code",
   "execution_count": 30,
   "id": "e148fd0b",
   "metadata": {},
   "outputs": [],
   "source": [
    "roll_number = 333"
   ]
  },
  {
   "cell_type": "code",
   "execution_count": 32,
   "id": "ea73a754",
   "metadata": {},
   "outputs": [],
   "source": [
    "sales = 79980"
   ]
  },
  {
   "cell_type": "code",
   "execution_count": 33,
   "id": "e2afa822",
   "metadata": {},
   "outputs": [],
   "source": [
    "profit = 1000"
   ]
  },
  {
   "cell_type": "markdown",
   "id": "1caa0260",
   "metadata": {},
   "source": [
    "### avoid using built-in function or module names to prevent conflicts and confusion"
   ]
  },
  {
   "cell_type": "code",
   "execution_count": 34,
   "id": "558c0f92",
   "metadata": {},
   "outputs": [],
   "source": [
    "list = 55"
   ]
  },
  {
   "cell_type": "code",
   "execution_count": 35,
   "id": "a8300794",
   "metadata": {},
   "outputs": [],
   "source": [
    "tuple =  66"
   ]
  },
  {
   "cell_type": "code",
   "execution_count": 36,
   "id": "c912de8c",
   "metadata": {},
   "outputs": [
    {
     "data": {
      "text/plain": [
       "55"
      ]
     },
     "execution_count": 36,
     "metadata": {},
     "output_type": "execute_result"
    }
   ],
   "source": [
    "list"
   ]
  },
  {
   "cell_type": "markdown",
   "id": "62fbdb32",
   "metadata": {},
   "source": [
    "### underscores can be used to separate multiple words"
   ]
  },
  {
   "cell_type": "code",
   "execution_count": 37,
   "id": "bab8f400",
   "metadata": {},
   "outputs": [],
   "source": [
    "average_score = 25"
   ]
  },
  {
   "cell_type": "markdown",
   "id": "32dd64b5",
   "metadata": {},
   "source": [
    "### it is generally recommended to use lowercase letters for names"
   ]
  },
  {
   "cell_type": "code",
   "execution_count": 38,
   "id": "fafc8f81",
   "metadata": {},
   "outputs": [
    {
     "data": {
      "text/plain": [
       "'priya'"
      ]
     },
     "execution_count": 38,
     "metadata": {},
     "output_type": "execute_result"
    }
   ],
   "source": [
    "age=25\n",
    "name='priya'\n",
    "name"
   ]
  },
  {
   "cell_type": "markdown",
   "id": "c81173f4",
   "metadata": {},
   "source": [
    "### be consistent with your naming style"
   ]
  },
  {
   "cell_type": "code",
   "execution_count": 39,
   "id": "f2513ed5",
   "metadata": {},
   "outputs": [],
   "source": [
    "user_name='priya'\n",
    "user_name2='manu'\n"
   ]
  },
  {
   "cell_type": "code",
   "execution_count": 41,
   "id": "80c81cf8",
   "metadata": {},
   "outputs": [],
   "source": [
    "#example 1:\n",
    "variable_name = 10\n"
   ]
  },
  {
   "cell_type": "markdown",
   "id": "8db2809a",
   "metadata": {},
   "source": [
    "### comments"
   ]
  },
  {
   "cell_type": "markdown",
   "id": "fd182ca8",
   "metadata": {},
   "source": [
    "### a comment is a note in the code that is ignored by the interpreter and used to explain or annotate the code for human readers"
   ]
  },
  {
   "cell_type": "code",
   "execution_count": 42,
   "id": "aac95e45",
   "metadata": {},
   "outputs": [
    {
     "name": "stdout",
     "output_type": "stream",
     "text": [
      "Hello,world!\n"
     ]
    }
   ],
   "source": [
    "#example\n",
    "print(\"Hello,world!\")"
   ]
  },
  {
   "cell_type": "code",
   "execution_count": 43,
   "id": "aef4ab5d",
   "metadata": {},
   "outputs": [],
   "source": [
    "#a=25"
   ]
  },
  {
   "cell_type": "code",
   "execution_count": 48,
   "id": "14e586ca",
   "metadata": {},
   "outputs": [
    {
     "data": {
      "text/plain": [
       "'hi everyone \\nim priya from mcu'"
      ]
     },
     "execution_count": 48,
     "metadata": {},
     "output_type": "execute_result"
    }
   ],
   "source": [
    "\"\"\"hi everyone \n",
    "im priya from mcu\"\"\""
   ]
  },
  {
   "cell_type": "code",
   "execution_count": 49,
   "id": "06a68f2d",
   "metadata": {},
   "outputs": [
    {
     "data": {
      "text/plain": [
       "'i study at anudip'"
      ]
     },
     "execution_count": 49,
     "metadata": {},
     "output_type": "execute_result"
    }
   ],
   "source": [
    "\"\"\"i study at anudip\"\"\""
   ]
  },
  {
   "cell_type": "code",
   "execution_count": 50,
   "id": "1598f42a",
   "metadata": {},
   "outputs": [
    {
     "data": {
      "text/plain": [
       "'this is a multi\\nline comment  and im declaring some values'"
      ]
     },
     "execution_count": 50,
     "metadata": {},
     "output_type": "execute_result"
    }
   ],
   "source": [
    "\"\"\"this is a multi\n",
    "line comment  and im declaring some values\"\"\""
   ]
  },
  {
   "cell_type": "code",
   "execution_count": 51,
   "id": "84d12123",
   "metadata": {},
   "outputs": [
    {
     "data": {
      "text/plain": [
       "'this is multi\\nline ,'"
      ]
     },
     "execution_count": 51,
     "metadata": {},
     "output_type": "execute_result"
    }
   ],
   "source": [
    "\"\"\"this is multi\n",
    "line ,\"\"\""
   ]
  },
  {
   "cell_type": "markdown",
   "id": "dc7b0266",
   "metadata": {},
   "source": [
    "## Keywords and Identifiers"
   ]
  },
  {
   "cell_type": "markdown",
   "id": "a33b284b",
   "metadata": {},
   "source": [
    "### keyword is a reserved word with predefined meanings and functionality within the programming language .example: (int,float,bool)"
   ]
  },
  {
   "cell_type": "code",
   "execution_count": 52,
   "id": "6c2ad522",
   "metadata": {},
   "outputs": [],
   "source": [
    "var = 20"
   ]
  },
  {
   "cell_type": "code",
   "execution_count": 53,
   "id": "37af885a",
   "metadata": {},
   "outputs": [
    {
     "data": {
      "text/plain": [
       "20"
      ]
     },
     "execution_count": 53,
     "metadata": {},
     "output_type": "execute_result"
    }
   ],
   "source": [
    "var"
   ]
  },
  {
   "cell_type": "code",
   "execution_count": 54,
   "id": "0504f105",
   "metadata": {},
   "outputs": [
    {
     "name": "stdout",
     "output_type": "stream",
     "text": [
      "this is a keyword\n"
     ]
    }
   ],
   "source": [
    "print(\"this is a keyword\")"
   ]
  },
  {
   "cell_type": "markdown",
   "id": "cdf25111",
   "metadata": {},
   "source": [
    "### Identifiers : an identifier is a name used to identify a variable,function,class,module or other object in python .Identifiers must start with a letter(a-z,A-Z) or an underscore"
   ]
  },
  {
   "cell_type": "code",
   "execution_count": 2,
   "id": "3a18b0bc",
   "metadata": {},
   "outputs": [],
   "source": [
    "my_salary= 500000 "
   ]
  },
  {
   "cell_type": "code",
   "execution_count": 1,
   "id": "7b1ca4e3",
   "metadata": {},
   "outputs": [
    {
     "name": "stdout",
     "output_type": "stream",
     "text": [
      "Priya\n",
      "hello\n"
     ]
    }
   ],
   "source": [
    "#Identifiers\n",
    "name1 = 'Priya'\n",
    "print(name1)\n",
    "#you can use special char\n",
    "_ = 'hello'\n",
    "print(_)"
   ]
  },
  {
   "cell_type": "markdown",
   "id": "793ee069",
   "metadata": {},
   "source": [
    "# user Input\n",
    "## the input() fun in python reads a line of text from the user and returns it as a string"
   ]
  },
  {
   "cell_type": "code",
   "execution_count": 2,
   "id": "686af533",
   "metadata": {},
   "outputs": [
    {
     "name": "stdout",
     "output_type": "stream",
     "text": [
      "priya\n"
     ]
    }
   ],
   "source": [
    "name=input()"
   ]
  },
  {
   "cell_type": "code",
   "execution_count": 3,
   "id": "c43f8780",
   "metadata": {},
   "outputs": [
    {
     "data": {
      "text/plain": [
       "str"
      ]
     },
     "execution_count": 3,
     "metadata": {},
     "output_type": "execute_result"
    }
   ],
   "source": [
    "type(name)"
   ]
  },
  {
   "cell_type": "code",
   "execution_count": 5,
   "id": "5a1154d0",
   "metadata": {},
   "outputs": [
    {
     "name": "stdout",
     "output_type": "stream",
     "text": [
      "what is your name priya\n"
     ]
    }
   ],
   "source": [
    "name=input('what is your name')"
   ]
  },
  {
   "cell_type": "code",
   "execution_count": 6,
   "id": "1dcef85a",
   "metadata": {},
   "outputs": [
    {
     "name": "stdout",
     "output_type": "stream",
     "text": [
      " priya\n"
     ]
    }
   ],
   "source": [
    "print(name)"
   ]
  },
  {
   "cell_type": "code",
   "execution_count": 7,
   "id": "1af224cb",
   "metadata": {},
   "outputs": [
    {
     "name": "stdout",
     "output_type": "stream",
     "text": [
      "enter the user namepriya\n"
     ]
    },
    {
     "data": {
      "text/plain": [
       "'priya'"
      ]
     },
     "execution_count": 7,
     "metadata": {},
     "output_type": "execute_result"
    }
   ],
   "source": [
    "input(\"enter the user name\")"
   ]
  },
  {
   "cell_type": "code",
   "execution_count": 8,
   "id": "bd6d199c",
   "metadata": {},
   "outputs": [
    {
     "name": "stdout",
     "output_type": "stream",
     "text": [
      "enter anything'hello'\n"
     ]
    },
    {
     "data": {
      "text/plain": [
       "\"'hello'\""
      ]
     },
     "execution_count": 8,
     "metadata": {},
     "output_type": "execute_result"
    }
   ],
   "source": [
    "input(\"enter anything\")"
   ]
  },
  {
   "cell_type": "code",
   "execution_count": null,
   "id": "fa507e74",
   "metadata": {},
   "outputs": [],
   "source": [
    "num1 = int(input(\"enter the first number\"))"
   ]
  },
  {
   "cell_type": "code",
   "execution_count": 17,
   "id": "a78b1f27",
   "metadata": {},
   "outputs": [
    {
     "data": {
      "text/plain": [
       "10"
      ]
     },
     "execution_count": 17,
     "metadata": {},
     "output_type": "execute_result"
    }
   ],
   "source": [
    "num1\n"
   ]
  },
  {
   "cell_type": "code",
   "execution_count": null,
   "id": "d5d74b00",
   "metadata": {},
   "outputs": [],
   "source": [
    "type(num1)"
   ]
  },
  {
   "cell_type": "code",
   "execution_count": 20,
   "id": "83b81f06",
   "metadata": {},
   "outputs": [
    {
     "name": "stdout",
     "output_type": "stream",
     "text": [
      "enter the second number20\n"
     ]
    }
   ],
   "source": [
    "num2 = int(input(\"enter the second number\"))"
   ]
  },
  {
   "cell_type": "code",
   "execution_count": 21,
   "id": "181b1e95",
   "metadata": {},
   "outputs": [
    {
     "data": {
      "text/plain": [
       "20"
      ]
     },
     "execution_count": 21,
     "metadata": {},
     "output_type": "execute_result"
    }
   ],
   "source": [
    "num2"
   ]
  },
  {
   "cell_type": "code",
   "execution_count": 22,
   "id": "f02b76c2",
   "metadata": {},
   "outputs": [
    {
     "data": {
      "text/plain": [
       "int"
      ]
     },
     "execution_count": 22,
     "metadata": {},
     "output_type": "execute_result"
    }
   ],
   "source": [
    "type(num2)"
   ]
  },
  {
   "cell_type": "code",
   "execution_count": 23,
   "id": "7d57bf4b",
   "metadata": {},
   "outputs": [
    {
     "data": {
      "text/plain": [
       "30"
      ]
     },
     "execution_count": 23,
     "metadata": {},
     "output_type": "execute_result"
    }
   ],
   "source": [
    "num1 + num2"
   ]
  },
  {
   "cell_type": "code",
   "execution_count": 24,
   "id": "55877f7a",
   "metadata": {},
   "outputs": [
    {
     "name": "stdout",
     "output_type": "stream",
     "text": [
      "enter the first number10\n",
      "enter the second number20\n"
     ]
    }
   ],
   "source": [
    "num1 = int(input(\"enter the first number\"))\n",
    "num2 = int(input(\"enter the second number\"))"
   ]
  },
  {
   "cell_type": "code",
   "execution_count": 25,
   "id": "66af1075",
   "metadata": {},
   "outputs": [
    {
     "name": "stdout",
     "output_type": "stream",
     "text": [
      "enter the first number10\n"
     ]
    }
   ],
   "source": [
    "num1 = float(input(\"enter the first number\"))\n"
   ]
  },
  {
   "cell_type": "code",
   "execution_count": 26,
   "id": "b70ff8c4",
   "metadata": {},
   "outputs": [
    {
     "data": {
      "text/plain": [
       "10.0"
      ]
     },
     "execution_count": 26,
     "metadata": {},
     "output_type": "execute_result"
    }
   ],
   "source": [
    "num1"
   ]
  },
  {
   "cell_type": "code",
   "execution_count": 27,
   "id": "5e6e42a1",
   "metadata": {},
   "outputs": [
    {
     "name": "stdout",
     "output_type": "stream",
     "text": [
      "enter the first number10\n"
     ]
    }
   ],
   "source": [
    "num1 = int(input(\"enter the first number\"))\n"
   ]
  },
  {
   "cell_type": "code",
   "execution_count": 29,
   "id": "3c6ee55d",
   "metadata": {},
   "outputs": [
    {
     "name": "stdout",
     "output_type": "stream",
     "text": [
      "enter the first number10\n"
     ]
    }
   ],
   "source": [
    "num1 = float(input(\"enter the first number\"))\n"
   ]
  },
  {
   "cell_type": "code",
   "execution_count": 31,
   "id": "d1fa5723",
   "metadata": {},
   "outputs": [
    {
     "data": {
      "text/plain": [
       "10.0"
      ]
     },
     "execution_count": 31,
     "metadata": {},
     "output_type": "execute_result"
    }
   ],
   "source": [
    "num1"
   ]
  },
  {
   "cell_type": "code",
   "execution_count": 30,
   "id": "cca15c8d",
   "metadata": {},
   "outputs": [
    {
     "name": "stdout",
     "output_type": "stream",
     "text": [
      "enter the first number20\n"
     ]
    }
   ],
   "source": [
    "num2 = float(input(\"enter the first number\"))\n"
   ]
  },
  {
   "cell_type": "code",
   "execution_count": 32,
   "id": "f59a21ec",
   "metadata": {},
   "outputs": [
    {
     "data": {
      "text/plain": [
       "20.0"
      ]
     },
     "execution_count": 32,
     "metadata": {},
     "output_type": "execute_result"
    }
   ],
   "source": [
    "num2"
   ]
  },
  {
   "cell_type": "code",
   "execution_count": 33,
   "id": "f9094aa3",
   "metadata": {},
   "outputs": [
    {
     "data": {
      "text/plain": [
       "30.0"
      ]
     },
     "execution_count": 33,
     "metadata": {},
     "output_type": "execute_result"
    }
   ],
   "source": [
    "num1 + num2"
   ]
  },
  {
   "cell_type": "code",
   "execution_count": 34,
   "id": "62c6c10e",
   "metadata": {},
   "outputs": [
    {
     "data": {
      "text/plain": [
       "-10.0"
      ]
     },
     "execution_count": 34,
     "metadata": {},
     "output_type": "execute_result"
    }
   ],
   "source": [
    "num1 - num2"
   ]
  },
  {
   "cell_type": "code",
   "execution_count": 35,
   "id": "56c5df7a",
   "metadata": {},
   "outputs": [
    {
     "data": {
      "text/plain": [
       "200.0"
      ]
     },
     "execution_count": 35,
     "metadata": {},
     "output_type": "execute_result"
    }
   ],
   "source": [
    "num1 * num2"
   ]
  },
  {
   "cell_type": "code",
   "execution_count": 36,
   "id": "8bce2186",
   "metadata": {},
   "outputs": [
    {
     "data": {
      "text/plain": [
       "0.5"
      ]
     },
     "execution_count": 36,
     "metadata": {},
     "output_type": "execute_result"
    }
   ],
   "source": [
    "num1 / num2"
   ]
  },
  {
   "cell_type": "code",
   "execution_count": 37,
   "id": "57c32fe6",
   "metadata": {},
   "outputs": [
    {
     "data": {
      "text/plain": [
       "10.0"
      ]
     },
     "execution_count": 37,
     "metadata": {},
     "output_type": "execute_result"
    }
   ],
   "source": [
    "num1 % num2"
   ]
  },
  {
   "cell_type": "code",
   "execution_count": 38,
   "id": "06a8e4ad",
   "metadata": {},
   "outputs": [
    {
     "name": "stdout",
     "output_type": "stream",
     "text": [
      "enter the first number10\n"
     ]
    }
   ],
   "source": [
    "num1 = int(input(\"enter the first number\"))\n"
   ]
  },
  {
   "cell_type": "code",
   "execution_count": 39,
   "id": "8d3c224a",
   "metadata": {},
   "outputs": [
    {
     "name": "stdout",
     "output_type": "stream",
     "text": [
      "enter the first number20\n"
     ]
    }
   ],
   "source": [
    "num2 = int(input(\"enter the first number\"))\n"
   ]
  },
  {
   "cell_type": "code",
   "execution_count": 47,
   "id": "2359540f",
   "metadata": {},
   "outputs": [
    {
     "name": "stdout",
     "output_type": "stream",
     "text": [
      "enter the first number10\n",
      "enter the first number20\n"
     ]
    }
   ],
   "source": [
    "num1 = int(input(\"enter the first number\"))\n",
    "num2 = int(input(\"enter the first number\"))\n"
   ]
  },
  {
   "cell_type": "code",
   "execution_count": 48,
   "id": "d227e856",
   "metadata": {},
   "outputs": [
    {
     "data": {
      "text/plain": [
       "10"
      ]
     },
     "execution_count": 48,
     "metadata": {},
     "output_type": "execute_result"
    }
   ],
   "source": [
    "num1"
   ]
  },
  {
   "cell_type": "code",
   "execution_count": 49,
   "id": "a83ef5a6",
   "metadata": {},
   "outputs": [
    {
     "data": {
      "text/plain": [
       "20"
      ]
     },
     "execution_count": 49,
     "metadata": {},
     "output_type": "execute_result"
    }
   ],
   "source": [
    "num2"
   ]
  },
  {
   "cell_type": "code",
   "execution_count": 50,
   "id": "8ffccc16",
   "metadata": {},
   "outputs": [
    {
     "data": {
      "text/plain": [
       "30"
      ]
     },
     "execution_count": 50,
     "metadata": {},
     "output_type": "execute_result"
    }
   ],
   "source": [
    "num1 + num2"
   ]
  },
  {
   "cell_type": "code",
   "execution_count": 51,
   "id": "4fc1497a",
   "metadata": {},
   "outputs": [
    {
     "data": {
      "text/plain": [
       "-10"
      ]
     },
     "execution_count": 51,
     "metadata": {},
     "output_type": "execute_result"
    }
   ],
   "source": [
    "num1-num2"
   ]
  },
  {
   "cell_type": "code",
   "execution_count": 55,
   "id": "7f7b6e4b",
   "metadata": {},
   "outputs": [
    {
     "data": {
      "text/plain": [
       "200"
      ]
     },
     "execution_count": 55,
     "metadata": {},
     "output_type": "execute_result"
    }
   ],
   "source": [
    "num1*num2"
   ]
  },
  {
   "cell_type": "code",
   "execution_count": 53,
   "id": "3bb8648f",
   "metadata": {},
   "outputs": [
    {
     "data": {
      "text/plain": [
       "0.5"
      ]
     },
     "execution_count": 53,
     "metadata": {},
     "output_type": "execute_result"
    }
   ],
   "source": [
    "num1/num2"
   ]
  },
  {
   "cell_type": "code",
   "execution_count": 54,
   "id": "86df0467",
   "metadata": {},
   "outputs": [
    {
     "data": {
      "text/plain": [
       "10"
      ]
     },
     "execution_count": 54,
     "metadata": {},
     "output_type": "execute_result"
    }
   ],
   "source": [
    "num1%num2"
   ]
  },
  {
   "cell_type": "code",
   "execution_count": 1,
   "id": "06f8f430",
   "metadata": {},
   "outputs": [
    {
     "name": "stdout",
     "output_type": "stream",
     "text": [
      "enter the first number10\n",
      "enter the first number20\n",
      "difference is -10\n",
      "sum is 30\n",
      "product is 200\n",
      "ratio is 0.5\n"
     ]
    }
   ],
   "source": [
    "num1 = int(input(\"enter the first number\"))\n",
    "num2 = int(input(\"enter the first number\"))\n",
    "\n",
    "sub = num1-num2\n",
    "add=num1+num2\n",
    "mul=num1*num2\n",
    "div=num1/num2\n",
    "\n",
    "print('difference is',sub)\n",
    "print('sum is',add)\n",
    "print('product is',mul)\n",
    "print('ratio is',div)"
   ]
  },
  {
   "cell_type": "code",
   "execution_count": 2,
   "id": "def64eb0",
   "metadata": {},
   "outputs": [
    {
     "name": "stdout",
     "output_type": "stream",
     "text": [
      "enter a number1110\n"
     ]
    }
   ],
   "source": [
    "num3 = input(\"enter a number\")"
   ]
  },
  {
   "cell_type": "code",
   "execution_count": 3,
   "id": "1c65d6a1",
   "metadata": {},
   "outputs": [
    {
     "data": {
      "text/plain": [
       "str"
      ]
     },
     "execution_count": 3,
     "metadata": {},
     "output_type": "execute_result"
    }
   ],
   "source": [
    "type(num3)"
   ]
  },
  {
   "cell_type": "code",
   "execution_count": 4,
   "id": "62888589",
   "metadata": {},
   "outputs": [
    {
     "name": "stdout",
     "output_type": "stream",
     "text": [
      "enter first number 10\n",
      "enter second number 20\n",
      "30\n"
     ]
    },
    {
     "data": {
      "text/plain": [
       "int"
      ]
     },
     "execution_count": 4,
     "metadata": {},
     "output_type": "execute_result"
    }
   ],
   "source": [
    "num1 = (input('enter first number '))\n",
    "num2 = (input('enter second number '))\n",
    "\n",
    "\n",
    "#subtract two varaible\n",
    "result = int(num1) + int(num2)\n",
    "# print the result\n",
    "print(result)\n",
    "type(result)"
   ]
  },
  {
   "cell_type": "code",
   "execution_count": 5,
   "id": "b8a20e24",
   "metadata": {},
   "outputs": [
    {
     "data": {
      "text/plain": [
       "str"
      ]
     },
     "execution_count": 5,
     "metadata": {},
     "output_type": "execute_result"
    }
   ],
   "source": [
    "type(num1)   #here the type conversion has not changed the original data but it creates a new value"
   ]
  },
  {
   "cell_type": "markdown",
   "id": "0b7736d9",
   "metadata": {},
   "source": [
    "# Type conversion"
   ]
  },
  {
   "cell_type": "markdown",
   "id": "477e721e",
   "metadata": {},
   "source": [
    "##### converting one data type to another"
   ]
  },
  {
   "cell_type": "markdown",
   "id": "8cf689eb",
   "metadata": {},
   "source": [
    "### type conversion:\n",
    "#### 1.definition: type conversion is the process of changing the data type of a value from one type to another.\n",
    "#### 2.Explanation: it allows you to convert b/w different data types,such as from strings to integers or floats, to perform various operations.\n"
   ]
  },
  {
   "cell_type": "code",
   "execution_count": 1,
   "id": "c8c63e23",
   "metadata": {},
   "outputs": [],
   "source": [
    "#converting a string to an integer\n",
    "age_str=\"25\"\n",
    "age_int=int(age_str)\n",
    "number=10\n",
    "number_str=str(number)"
   ]
  },
  {
   "cell_type": "code",
   "execution_count": 2,
   "id": "7709dd3b",
   "metadata": {},
   "outputs": [],
   "source": [
    "int_value=10"
   ]
  },
  {
   "cell_type": "code",
   "execution_count": 3,
   "id": "af39f6bc",
   "metadata": {},
   "outputs": [
    {
     "data": {
      "text/plain": [
       "int"
      ]
     },
     "execution_count": 3,
     "metadata": {},
     "output_type": "execute_result"
    }
   ],
   "source": [
    "type(int_value)"
   ]
  },
  {
   "cell_type": "code",
   "execution_count": 4,
   "id": "e3daa15b",
   "metadata": {},
   "outputs": [],
   "source": [
    "#convert int------->float"
   ]
  },
  {
   "cell_type": "code",
   "execution_count": 5,
   "id": "4bbdf072",
   "metadata": {},
   "outputs": [],
   "source": [
    "float_value=float(int_value)"
   ]
  },
  {
   "cell_type": "code",
   "execution_count": 6,
   "id": "81c5f628",
   "metadata": {},
   "outputs": [
    {
     "data": {
      "text/plain": [
       "float"
      ]
     },
     "execution_count": 6,
     "metadata": {},
     "output_type": "execute_result"
    }
   ],
   "source": [
    "type(float_value)"
   ]
  },
  {
   "cell_type": "code",
   "execution_count": 7,
   "id": "7d56d28c",
   "metadata": {},
   "outputs": [],
   "source": [
    "age_str = '25'\n"
   ]
  },
  {
   "cell_type": "code",
   "execution_count": 8,
   "id": "9ad4fe9f",
   "metadata": {},
   "outputs": [
    {
     "data": {
      "text/plain": [
       "str"
      ]
     },
     "execution_count": 8,
     "metadata": {},
     "output_type": "execute_result"
    }
   ],
   "source": [
    "type(age_str)"
   ]
  },
  {
   "cell_type": "code",
   "execution_count": 9,
   "id": "27b69ba9",
   "metadata": {},
   "outputs": [],
   "source": [
    "age_int = int(age_str)"
   ]
  },
  {
   "cell_type": "code",
   "execution_count": 10,
   "id": "1ebc520c",
   "metadata": {},
   "outputs": [
    {
     "data": {
      "text/plain": [
       "int"
      ]
     },
     "execution_count": 10,
     "metadata": {},
     "output_type": "execute_result"
    }
   ],
   "source": [
    "type(age_int)"
   ]
  },
  {
   "cell_type": "code",
   "execution_count": 11,
   "id": "39a7b0fc",
   "metadata": {},
   "outputs": [
    {
     "data": {
      "text/plain": [
       "str"
      ]
     },
     "execution_count": 11,
     "metadata": {},
     "output_type": "execute_result"
    }
   ],
   "source": [
    "type(age_str)"
   ]
  },
  {
   "cell_type": "code",
   "execution_count": 12,
   "id": "e3801f77",
   "metadata": {},
   "outputs": [
    {
     "name": "stdout",
     "output_type": "stream",
     "text": [
      "18.5\n"
     ]
    }
   ],
   "source": [
    "print(8+10.5)"
   ]
  },
  {
   "cell_type": "code",
   "execution_count": 13,
   "id": "1e17afd6",
   "metadata": {},
   "outputs": [
    {
     "name": "stdout",
     "output_type": "stream",
     "text": [
      "13.8\n"
     ]
    }
   ],
   "source": [
    "# Implicit       it is a type conversion  done by the python itself\n",
    "\n",
    "print(8+5.8)"
   ]
  },
  {
   "cell_type": "code",
   "execution_count": 14,
   "id": "ca79d5bf",
   "metadata": {},
   "outputs": [
    {
     "name": "stdout",
     "output_type": "stream",
     "text": [
      "<class 'int'> <class 'float'>\n"
     ]
    }
   ],
   "source": [
    "print(type(8),type(5.8))"
   ]
  },
  {
   "cell_type": "code",
   "execution_count": 16,
   "id": "5befe0a6",
   "metadata": {},
   "outputs": [
    {
     "name": "stdout",
     "output_type": "stream",
     "text": [
      "17\n"
     ]
    }
   ],
   "source": [
    "# implicit doesnt work here\n",
    "print(8 + 9)"
   ]
  },
  {
   "cell_type": "code",
   "execution_count": 2,
   "id": "183d4384",
   "metadata": {},
   "outputs": [],
   "source": [
    "# Explicit    where the programmer explicitly write a code to convert\n"
   ]
  },
  {
   "cell_type": "code",
   "execution_count": 3,
   "id": "96936d34",
   "metadata": {},
   "outputs": [],
   "source": [
    "a = 10\n"
   ]
  },
  {
   "cell_type": "code",
   "execution_count": 4,
   "id": "b9215d44",
   "metadata": {},
   "outputs": [],
   "source": [
    "# int to str\n",
    "b = str(a)"
   ]
  },
  {
   "cell_type": "code",
   "execution_count": 5,
   "id": "b7d93a86",
   "metadata": {},
   "outputs": [
    {
     "data": {
      "text/plain": [
       "str"
      ]
     },
     "execution_count": 5,
     "metadata": {},
     "output_type": "execute_result"
    }
   ],
   "source": [
    "type(b)"
   ]
  },
  {
   "cell_type": "code",
   "execution_count": 6,
   "id": "31030be1",
   "metadata": {},
   "outputs": [
    {
     "data": {
      "text/plain": [
       "'20'"
      ]
     },
     "execution_count": 6,
     "metadata": {},
     "output_type": "execute_result"
    }
   ],
   "source": [
    "str(20)"
   ]
  },
  {
   "cell_type": "code",
   "execution_count": 7,
   "id": "c15e8871",
   "metadata": {},
   "outputs": [],
   "source": [
    "b = 4+5j"
   ]
  },
  {
   "cell_type": "code",
   "execution_count": 8,
   "id": "f4e21acc",
   "metadata": {},
   "outputs": [
    {
     "data": {
      "text/plain": [
       "complex"
      ]
     },
     "execution_count": 8,
     "metadata": {},
     "output_type": "execute_result"
    }
   ],
   "source": [
    "type(b)"
   ]
  },
  {
   "cell_type": "code",
   "execution_count": null,
   "id": "425d0d3c",
   "metadata": {},
   "outputs": [],
   "source": []
  },
  {
   "cell_type": "code",
   "execution_count": null,
   "id": "3dff26eb",
   "metadata": {},
   "outputs": [],
   "source": []
  },
  {
   "cell_type": "code",
   "execution_count": null,
   "id": "78cc0ec7",
   "metadata": {},
   "outputs": [],
   "source": []
  }
 ],
 "metadata": {
  "kernelspec": {
   "display_name": "Python 3 (ipykernel)",
   "language": "python",
   "name": "python3"
  },
  "language_info": {
   "codemirror_mode": {
    "name": "ipython",
    "version": 3
   },
   "file_extension": ".py",
   "mimetype": "text/x-python",
   "name": "python",
   "nbconvert_exporter": "python",
   "pygments_lexer": "ipython3",
   "version": "3.9.12"
  }
 },
 "nbformat": 4,
 "nbformat_minor": 5
}
