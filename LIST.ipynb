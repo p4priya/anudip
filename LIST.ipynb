{
 "cells": [
  {
   "cell_type": "markdown",
   "id": "64d0500b",
   "metadata": {},
   "source": [
    "### MEMBERSHIP OPERATORS IN STRINGS"
   ]
  },
  {
   "cell_type": "code",
   "execution_count": 2,
   "id": "790d2d1e",
   "metadata": {},
   "outputs": [
    {
     "data": {
      "text/plain": [
       "'Hello'"
      ]
     },
     "execution_count": 2,
     "metadata": {},
     "output_type": "execute_result"
    }
   ],
   "source": [
    "text = \"hello world\"\n",
    "\"Hello\""
   ]
  },
  {
   "cell_type": "markdown",
   "id": "2c2aec3e",
   "metadata": {},
   "source": [
    "#### List is a collection which is ordered and changeable. Allows duplicate members.\n",
    "Tuple is a collection which is ordered and unchangeable. Allows duplicate members.\n",
    "Set is a collection which is unordered, unchangeable*, and unindexed. No duplicate members.\n",
    "Dictionary is a collection which is ordered** and changeable. No duplicate members."
   ]
  },
  {
   "cell_type": "code",
   "execution_count": 3,
   "id": "a4c000c7",
   "metadata": {},
   "outputs": [],
   "source": [
    "text=\"Hello, world!\"\n",
    "result=\"hello\" not in text"
   ]
  },
  {
   "cell_type": "code",
   "execution_count": 4,
   "id": "8d146db9",
   "metadata": {},
   "outputs": [
    {
     "data": {
      "text/plain": [
       "False"
      ]
     },
     "execution_count": 4,
     "metadata": {},
     "output_type": "execute_result"
    }
   ],
   "source": [
    "'hep' in text"
   ]
  },
  {
   "cell_type": "code",
   "execution_count": 5,
   "id": "3a16e4ad",
   "metadata": {},
   "outputs": [
    {
     "data": {
      "text/plain": [
       "True"
      ]
     },
     "execution_count": 5,
     "metadata": {},
     "output_type": "execute_result"
    }
   ],
   "source": [
    "'shri' not in text"
   ]
  },
  {
   "cell_type": "code",
   "execution_count": 6,
   "id": "543bc6ba",
   "metadata": {},
   "outputs": [],
   "source": [
    "a=2.5"
   ]
  },
  {
   "cell_type": "code",
   "execution_count": 7,
   "id": "b35df75a",
   "metadata": {},
   "outputs": [
    {
     "data": {
      "text/plain": [
       "2.5"
      ]
     },
     "execution_count": 7,
     "metadata": {},
     "output_type": "execute_result"
    }
   ],
   "source": [
    "a"
   ]
  },
  {
   "cell_type": "code",
   "execution_count": 8,
   "id": "53dba012",
   "metadata": {},
   "outputs": [],
   "source": [
    "text=\"hello world\""
   ]
  },
  {
   "cell_type": "code",
   "execution_count": 9,
   "id": "a72232ea",
   "metadata": {},
   "outputs": [
    {
     "data": {
      "text/plain": [
       "'hello world'"
      ]
     },
     "execution_count": 9,
     "metadata": {},
     "output_type": "execute_result"
    }
   ],
   "source": [
    "text"
   ]
  },
  {
   "cell_type": "code",
   "execution_count": 10,
   "id": "b684e5d6",
   "metadata": {},
   "outputs": [
    {
     "data": {
      "text/plain": [
       "'hello world'"
      ]
     },
     "execution_count": 10,
     "metadata": {},
     "output_type": "execute_result"
    }
   ],
   "source": [
    "text.lower()"
   ]
  },
  {
   "cell_type": "code",
   "execution_count": 11,
   "id": "f6a9ee1e",
   "metadata": {},
   "outputs": [
    {
     "data": {
      "text/plain": [
       "'HELLO WORLD'"
      ]
     },
     "execution_count": 11,
     "metadata": {},
     "output_type": "execute_result"
    }
   ],
   "source": [
    "text.upper()"
   ]
  },
  {
   "cell_type": "code",
   "execution_count": 12,
   "id": "97372efb",
   "metadata": {},
   "outputs": [],
   "source": [
    "text=\"hello world\"\n",
    "title_text=text.title()"
   ]
  },
  {
   "cell_type": "code",
   "execution_count": 13,
   "id": "378daf18",
   "metadata": {},
   "outputs": [
    {
     "data": {
      "text/plain": [
       "'Hello World'"
      ]
     },
     "execution_count": 13,
     "metadata": {},
     "output_type": "execute_result"
    }
   ],
   "source": [
    "text.title()"
   ]
  },
  {
   "cell_type": "code",
   "execution_count": 14,
   "id": "29be99aa",
   "metadata": {},
   "outputs": [],
   "source": [
    "a='jhcniadjchi'"
   ]
  },
  {
   "cell_type": "code",
   "execution_count": 15,
   "id": "1f3895b5",
   "metadata": {},
   "outputs": [
    {
     "data": {
      "text/plain": [
       "'jhcniadjchi'"
      ]
     },
     "execution_count": 15,
     "metadata": {},
     "output_type": "execute_result"
    }
   ],
   "source": [
    "a"
   ]
  },
  {
   "cell_type": "code",
   "execution_count": 16,
   "id": "bd0cbd12",
   "metadata": {},
   "outputs": [],
   "source": [
    "b='4545476'"
   ]
  },
  {
   "cell_type": "code",
   "execution_count": 17,
   "id": "ec6d912a",
   "metadata": {},
   "outputs": [
    {
     "data": {
      "text/plain": [
       "'4545476'"
      ]
     },
     "execution_count": 17,
     "metadata": {},
     "output_type": "execute_result"
    }
   ],
   "source": [
    "b"
   ]
  },
  {
   "cell_type": "code",
   "execution_count": 18,
   "id": "ec9dd360",
   "metadata": {},
   "outputs": [
    {
     "data": {
      "text/plain": [
       "'JHCNIADJCHI'"
      ]
     },
     "execution_count": 18,
     "metadata": {},
     "output_type": "execute_result"
    }
   ],
   "source": [
    "a.upper()"
   ]
  },
  {
   "cell_type": "markdown",
   "id": "a6d6e96a",
   "metadata": {},
   "source": [
    "### str.strip()\n",
    "removes leading and trailing whitespace characters"
   ]
  },
  {
   "cell_type": "code",
   "execution_count": 19,
   "id": "55dd32ae",
   "metadata": {},
   "outputs": [
    {
     "data": {
      "text/plain": [
       "'hello,world!'"
      ]
     },
     "execution_count": 19,
     "metadata": {},
     "output_type": "execute_result"
    }
   ],
   "source": [
    "text=\"hello,world!\"\n",
    "text.strip()"
   ]
  },
  {
   "cell_type": "markdown",
   "id": "c15ffda8",
   "metadata": {},
   "source": [
    "### str.replace()"
   ]
  },
  {
   "cell_type": "code",
   "execution_count": 27,
   "id": "32ef46b8",
   "metadata": {},
   "outputs": [],
   "source": [
    "text=\"hello, world!\""
   ]
  },
  {
   "cell_type": "code",
   "execution_count": 28,
   "id": "1119ae3c",
   "metadata": {},
   "outputs": [
    {
     "data": {
      "text/plain": [
       "'hello, world!'"
      ]
     },
     "execution_count": 28,
     "metadata": {},
     "output_type": "execute_result"
    }
   ],
   "source": [
    "text"
   ]
  },
  {
   "cell_type": "markdown",
   "id": "f326e0a1",
   "metadata": {},
   "source": [
    "### str.split(separator)"
   ]
  },
  {
   "cell_type": "code",
   "execution_count": 34,
   "id": "2c5568e7",
   "metadata": {},
   "outputs": [
    {
     "data": {
      "text/plain": [
       "['Hello,', 'world!', 'this', 'is', 'as', 'split', 'method']"
      ]
     },
     "execution_count": 34,
     "metadata": {},
     "output_type": "execute_result"
    }
   ],
   "source": [
    "text=\"Hello, world! this is as split method\"\n",
    "text.split(\" \")"
   ]
  },
  {
   "cell_type": "code",
   "execution_count": 36,
   "id": "ba081bf3",
   "metadata": {},
   "outputs": [
    {
     "data": {
      "text/plain": [
       "['Hello, world', ' this is as split method']"
      ]
     },
     "execution_count": 36,
     "metadata": {},
     "output_type": "execute_result"
    }
   ],
   "source": [
    "text.split(\"!\")"
   ]
  },
  {
   "cell_type": "code",
   "execution_count": 37,
   "id": "dccb153d",
   "metadata": {
    "scrolled": true
   },
   "outputs": [
    {
     "data": {
      "text/plain": [
       "['Hello', ' world! this is as split method']"
      ]
     },
     "execution_count": 37,
     "metadata": {},
     "output_type": "execute_result"
    }
   ],
   "source": [
    "text.split(\",\")"
   ]
  },
  {
   "cell_type": "code",
   "execution_count": 38,
   "id": "3bbc72cf",
   "metadata": {},
   "outputs": [
    {
     "data": {
      "text/plain": [
       "['Hello, world! ', ' is as split method']"
      ]
     },
     "execution_count": 38,
     "metadata": {},
     "output_type": "execute_result"
    }
   ],
   "source": [
    "text.split(\"this\")"
   ]
  },
  {
   "cell_type": "code",
   "execution_count": 39,
   "id": "2679559f",
   "metadata": {},
   "outputs": [
    {
     "data": {
      "text/plain": [
       "['Hello', ' world! this is as split method']"
      ]
     },
     "execution_count": 39,
     "metadata": {},
     "output_type": "execute_result"
    }
   ],
   "source": [
    "split_text"
   ]
  },
  {
   "cell_type": "markdown",
   "id": "da201d31",
   "metadata": {},
   "source": [
    "### str.join(iterable)"
   ]
  },
  {
   "cell_type": "code",
   "execution_count": 42,
   "id": "8654e741",
   "metadata": {},
   "outputs": [],
   "source": [
    "words=['Hello', 'world']\n",
    "joined_text = ' '.join(words)"
   ]
  },
  {
   "cell_type": "code",
   "execution_count": 43,
   "id": "2b36b2fd",
   "metadata": {},
   "outputs": [
    {
     "data": {
      "text/plain": [
       "['hello', 'world', 'this', 'is', 'sri']"
      ]
     },
     "execution_count": 43,
     "metadata": {},
     "output_type": "execute_result"
    }
   ],
   "source": [
    "words=['hello','world','this','is','sri']\n",
    "words"
   ]
  },
  {
   "cell_type": "code",
   "execution_count": 44,
   "id": "2744a546",
   "metadata": {},
   "outputs": [
    {
     "data": {
      "text/plain": [
       "'hello---world---this---is---sri'"
      ]
     },
     "execution_count": 44,
     "metadata": {},
     "output_type": "execute_result"
    }
   ],
   "source": [
    "joined_text='---'.join(words)\n",
    "joined_text"
   ]
  },
  {
   "cell_type": "markdown",
   "id": "9ab0dbf9",
   "metadata": {},
   "source": [
    "### str.find(substring)\n"
   ]
  },
  {
   "cell_type": "code",
   "execution_count": 45,
   "id": "21a07549",
   "metadata": {},
   "outputs": [],
   "source": [
    "text=\"hello, world!\"\n",
    "index=text.find(\"world\")"
   ]
  },
  {
   "cell_type": "code",
   "execution_count": 46,
   "id": "d93c758c",
   "metadata": {},
   "outputs": [],
   "source": [
    "text=\"hello, world!\"\n",
    "index=text.find(\"world\")"
   ]
  },
  {
   "cell_type": "code",
   "execution_count": 47,
   "id": "eb177010",
   "metadata": {},
   "outputs": [
    {
     "data": {
      "text/plain": [
       "7"
      ]
     },
     "execution_count": 47,
     "metadata": {},
     "output_type": "execute_result"
    }
   ],
   "source": [
    "index"
   ]
  },
  {
   "cell_type": "markdown",
   "id": "491ca755",
   "metadata": {},
   "source": [
    "### str.count(substring)"
   ]
  },
  {
   "cell_type": "code",
   "execution_count": 48,
   "id": "c2d21548",
   "metadata": {},
   "outputs": [],
   "source": [
    "text=\"hello,Hello world!\"\n",
    "count=text.count(\"hello\")"
   ]
  },
  {
   "cell_type": "code",
   "execution_count": 55,
   "id": "04042991",
   "metadata": {},
   "outputs": [],
   "source": [
    "text=\"hello,Hello world!\"\n",
    "count=text.count(\"l\")"
   ]
  },
  {
   "cell_type": "code",
   "execution_count": 56,
   "id": "244a3a40",
   "metadata": {},
   "outputs": [
    {
     "data": {
      "text/plain": [
       "5"
      ]
     },
     "execution_count": 56,
     "metadata": {},
     "output_type": "execute_result"
    }
   ],
   "source": [
    "count"
   ]
  },
  {
   "cell_type": "markdown",
   "id": "9f369b7e",
   "metadata": {},
   "source": [
    "## str.startswith(prefix)"
   ]
  },
  {
   "cell_type": "code",
   "execution_count": 57,
   "id": "deae3518",
   "metadata": {},
   "outputs": [],
   "source": [
    "text=\"hello, world!\""
   ]
  },
  {
   "cell_type": "code",
   "execution_count": 58,
   "id": "35fde454",
   "metadata": {},
   "outputs": [
    {
     "data": {
      "text/plain": [
       "True"
      ]
     },
     "execution_count": 58,
     "metadata": {},
     "output_type": "execute_result"
    }
   ],
   "source": [
    "text.startswith(\"hello\")"
   ]
  },
  {
   "cell_type": "code",
   "execution_count": 59,
   "id": "19441775",
   "metadata": {},
   "outputs": [
    {
     "data": {
      "text/plain": [
       "False"
      ]
     },
     "execution_count": 59,
     "metadata": {},
     "output_type": "execute_result"
    }
   ],
   "source": [
    "text.startswith(\"world!\")"
   ]
  },
  {
   "cell_type": "code",
   "execution_count": 60,
   "id": "766d557c",
   "metadata": {},
   "outputs": [
    {
     "data": {
      "text/plain": [
       "True"
      ]
     },
     "execution_count": 60,
     "metadata": {},
     "output_type": "execute_result"
    }
   ],
   "source": [
    "text=\"hello, world!\"\n",
    "text.endswith(\"world!\")"
   ]
  },
  {
   "cell_type": "markdown",
   "id": "4e8b30ae",
   "metadata": {},
   "source": [
    "## str.isdigit()"
   ]
  },
  {
   "cell_type": "code",
   "execution_count": 61,
   "id": "7942911d",
   "metadata": {},
   "outputs": [],
   "source": [
    "text=\"123456\"\n",
    "is_digit=text.isdigit()"
   ]
  },
  {
   "cell_type": "code",
   "execution_count": 62,
   "id": "fbddab70",
   "metadata": {},
   "outputs": [
    {
     "data": {
      "text/plain": [
       "True"
      ]
     },
     "execution_count": 62,
     "metadata": {},
     "output_type": "execute_result"
    }
   ],
   "source": [
    "text.isdigit()"
   ]
  },
  {
   "cell_type": "markdown",
   "id": "0d8d6030",
   "metadata": {},
   "source": [
    "## str.isalpha()"
   ]
  },
  {
   "cell_type": "code",
   "execution_count": 63,
   "id": "72faebab",
   "metadata": {},
   "outputs": [],
   "source": [
    "text=\"hello\"\n",
    "is_alpha=text.isalpha()"
   ]
  },
  {
   "cell_type": "code",
   "execution_count": 65,
   "id": "9bee9793",
   "metadata": {},
   "outputs": [
    {
     "data": {
      "text/plain": [
       "True"
      ]
     },
     "execution_count": 65,
     "metadata": {},
     "output_type": "execute_result"
    }
   ],
   "source": [
    "text.isalpha()"
   ]
  },
  {
   "cell_type": "code",
   "execution_count": 66,
   "id": "c837130e",
   "metadata": {},
   "outputs": [],
   "source": [
    "text=\"2436\"\n",
    "is_alpha=text.isalpha()"
   ]
  },
  {
   "cell_type": "code",
   "execution_count": 67,
   "id": "6e2427d5",
   "metadata": {},
   "outputs": [
    {
     "data": {
      "text/plain": [
       "False"
      ]
     },
     "execution_count": 67,
     "metadata": {},
     "output_type": "execute_result"
    }
   ],
   "source": [
    "text.isalpha()"
   ]
  },
  {
   "cell_type": "code",
   "execution_count": 68,
   "id": "9fcca854",
   "metadata": {},
   "outputs": [],
   "source": [
    "text=\"hello\"\n",
    "is_lower=text.islower()"
   ]
  },
  {
   "cell_type": "code",
   "execution_count": 69,
   "id": "0a3d176b",
   "metadata": {},
   "outputs": [
    {
     "data": {
      "text/plain": [
       "True"
      ]
     },
     "execution_count": 69,
     "metadata": {},
     "output_type": "execute_result"
    }
   ],
   "source": [
    "text.islower()"
   ]
  },
  {
   "cell_type": "code",
   "execution_count": 70,
   "id": "3623760b",
   "metadata": {},
   "outputs": [],
   "source": [
    "text=\"hello\"\n",
    "is_upper=text.isupper()"
   ]
  },
  {
   "cell_type": "code",
   "execution_count": 71,
   "id": "c549f780",
   "metadata": {},
   "outputs": [
    {
     "data": {
      "text/plain": [
       "False"
      ]
     },
     "execution_count": 71,
     "metadata": {},
     "output_type": "execute_result"
    }
   ],
   "source": [
    "text.isupper()"
   ]
  },
  {
   "cell_type": "code",
   "execution_count": 74,
   "id": "b3587fdc",
   "metadata": {},
   "outputs": [],
   "source": [
    "text='348'\n",
    "padded_text=text.zfill(6)"
   ]
  },
  {
   "cell_type": "code",
   "execution_count": 75,
   "id": "059cfb8e",
   "metadata": {},
   "outputs": [
    {
     "data": {
      "text/plain": [
       "'000348'"
      ]
     },
     "execution_count": 75,
     "metadata": {},
     "output_type": "execute_result"
    }
   ],
   "source": [
    "padded_text"
   ]
  },
  {
   "cell_type": "code",
   "execution_count": 76,
   "id": "84bf5838",
   "metadata": {},
   "outputs": [],
   "source": [
    "text=\"Hello, world! this is as split method\"\n",
    "index=text.rfind(\"world!\")"
   ]
  },
  {
   "cell_type": "code",
   "execution_count": 77,
   "id": "e059bfe6",
   "metadata": {},
   "outputs": [
    {
     "data": {
      "text/plain": [
       "7"
      ]
     },
     "execution_count": 77,
     "metadata": {},
     "output_type": "execute_result"
    }
   ],
   "source": [
    "index"
   ]
  },
  {
   "cell_type": "markdown",
   "id": "4f29b572",
   "metadata": {},
   "source": [
    "## min()"
   ]
  },
  {
   "cell_type": "code",
   "execution_count": 78,
   "id": "883ffe73",
   "metadata": {},
   "outputs": [],
   "source": [
    "words=[\"apple\",\"banana\",\"cherry\"]\n",
    "smallest_word=min(words)"
   ]
  },
  {
   "cell_type": "code",
   "execution_count": 79,
   "id": "e2ca8ba1",
   "metadata": {},
   "outputs": [],
   "source": [
    "smallest_char=min(\"z\",\"a\",\"m\")"
   ]
  },
  {
   "cell_type": "code",
   "execution_count": 80,
   "id": "26141206",
   "metadata": {},
   "outputs": [],
   "source": [
    "words=[\"apple\",\"banana\",\"cherry\"]\n"
   ]
  },
  {
   "cell_type": "code",
   "execution_count": 81,
   "id": "38e4dd70",
   "metadata": {},
   "outputs": [
    {
     "data": {
      "text/plain": [
       "'apple'"
      ]
     },
     "execution_count": 81,
     "metadata": {},
     "output_type": "execute_result"
    }
   ],
   "source": [
    "min(words)"
   ]
  },
  {
   "cell_type": "code",
   "execution_count": 82,
   "id": "b5d084cc",
   "metadata": {},
   "outputs": [
    {
     "data": {
      "text/plain": [
       "'a'"
      ]
     },
     "execution_count": 82,
     "metadata": {},
     "output_type": "execute_result"
    }
   ],
   "source": [
    "min(\"z\",\"a\",\"m\")"
   ]
  },
  {
   "cell_type": "code",
   "execution_count": 83,
   "id": "1cab09ca",
   "metadata": {},
   "outputs": [],
   "source": [
    "words=[\"apple\",\"Aanana\",\"cherry\"]\n"
   ]
  },
  {
   "cell_type": "code",
   "execution_count": 84,
   "id": "a969ec1d",
   "metadata": {},
   "outputs": [
    {
     "data": {
      "text/plain": [
       "'Aanana'"
      ]
     },
     "execution_count": 84,
     "metadata": {},
     "output_type": "execute_result"
    }
   ],
   "source": [
    "min(words)"
   ]
  },
  {
   "cell_type": "markdown",
   "id": "65e1b349",
   "metadata": {},
   "source": [
    "## len()"
   ]
  },
  {
   "cell_type": "code",
   "execution_count": 85,
   "id": "a63c5b07",
   "metadata": {},
   "outputs": [
    {
     "data": {
      "text/plain": [
       "13"
      ]
     },
     "execution_count": 85,
     "metadata": {},
     "output_type": "execute_result"
    }
   ],
   "source": [
    "text=\"hello, world!\"\n",
    "len(text)"
   ]
  },
  {
   "cell_type": "markdown",
   "id": "64c1d36b",
   "metadata": {},
   "source": [
    "### sorted()\n",
    "\n"
   ]
  },
  {
   "cell_type": "code",
   "execution_count": 86,
   "id": "6b88973b",
   "metadata": {},
   "outputs": [
    {
     "data": {
      "text/plain": [
       "['a', 'a', 'a', 'b', 'n', 'n']"
      ]
     },
     "execution_count": 86,
     "metadata": {},
     "output_type": "execute_result"
    }
   ],
   "source": [
    "text=\"banana\"\n",
    "sorted_text=sorted(text)\n",
    "sorted(text)"
   ]
  },
  {
   "cell_type": "markdown",
   "id": "8875f5b8",
   "metadata": {},
   "source": [
    "## reversed()"
   ]
  },
  {
   "cell_type": "code",
   "execution_count": 87,
   "id": "8031ba6d",
   "metadata": {},
   "outputs": [],
   "source": [
    "text=\"hello, world!\"\n",
    "reversed_text=''.join(reversed(text))"
   ]
  },
  {
   "cell_type": "code",
   "execution_count": 88,
   "id": "0a274927",
   "metadata": {},
   "outputs": [
    {
     "data": {
      "text/plain": [
       "'!dlrow ,olleh'"
      ]
     },
     "execution_count": 88,
     "metadata": {},
     "output_type": "execute_result"
    }
   ],
   "source": [
    "reversed_text"
   ]
  },
  {
   "cell_type": "markdown",
   "id": "503fa2db",
   "metadata": {},
   "source": [
    "## sum()"
   ]
  },
  {
   "cell_type": "code",
   "execution_count": 91,
   "id": "40c3d880",
   "metadata": {},
   "outputs": [],
   "source": [
    "numbers=[1,2,3,4,5,6]\n",
    "total=sum(numbers)\n"
   ]
  },
  {
   "cell_type": "code",
   "execution_count": 92,
   "id": "a4c5ea42",
   "metadata": {},
   "outputs": [
    {
     "data": {
      "text/plain": [
       "21"
      ]
     },
     "execution_count": 92,
     "metadata": {},
     "output_type": "execute_result"
    }
   ],
   "source": [
    "total"
   ]
  },
  {
   "cell_type": "code",
   "execution_count": 99,
   "id": "91b5c766",
   "metadata": {},
   "outputs": [
    {
     "data": {
      "text/plain": [
       "'Hello,John! Welcome to the python world.'"
      ]
     },
     "execution_count": 99,
     "metadata": {},
     "output_type": "execute_result"
    }
   ],
   "source": [
    "text1=\"Hello,John! \"\n",
    "text2= \"Welcome to the python world.\"\n",
    "text1+text2"
   ]
  },
  {
   "cell_type": "code",
   "execution_count": 100,
   "id": "f75222af",
   "metadata": {},
   "outputs": [
    {
     "data": {
      "text/plain": [
       "'John Doe'"
      ]
     },
     "execution_count": 100,
     "metadata": {},
     "output_type": "execute_result"
    }
   ],
   "source": [
    "name1=\"John\"\n",
    "name2=\" Doe\"\n",
    "name1+name2"
   ]
  },
  {
   "cell_type": "code",
   "execution_count": 101,
   "id": "dfdc5800",
   "metadata": {},
   "outputs": [
    {
     "data": {
      "text/plain": [
       "'john doe'"
      ]
     },
     "execution_count": 101,
     "metadata": {},
     "output_type": "execute_result"
    }
   ],
   "source": [
    "first_name =\"john\"\n",
    "last_name=\"doe\"\n",
    "full_name = first_name +\" \"+ last_name\n",
    "full_name"
   ]
  },
  {
   "cell_type": "code",
   "execution_count": 1,
   "id": "c79fd982",
   "metadata": {},
   "outputs": [],
   "source": [
    "# append and extend itetable\n",
    "fruits=['apple','banana']"
   ]
  },
  {
   "cell_type": "code",
   "execution_count": 2,
   "id": "87fcb7c5",
   "metadata": {},
   "outputs": [
    {
     "data": {
      "text/plain": [
       "['apple', 'banana', 1, 23, 56, 8, 9]"
      ]
     },
     "execution_count": 2,
     "metadata": {},
     "output_type": "execute_result"
    }
   ],
   "source": [
    "fruits.extend([1,23,56,8,9])\n",
    "fruits"
   ]
  },
  {
   "cell_type": "code",
   "execution_count": 4,
   "id": "e6da94ef",
   "metadata": {},
   "outputs": [
    {
     "data": {
      "text/plain": [
       "['apple', 'banana', 1, 23, 56, 8, 9, [1, 23, 56, 8, 9]]"
      ]
     },
     "execution_count": 4,
     "metadata": {},
     "output_type": "execute_result"
    }
   ],
   "source": [
    "fruits.append([1,23,56,8,9])\n",
    "fruits"
   ]
  },
  {
   "cell_type": "code",
   "execution_count": 6,
   "id": "f77ad43b",
   "metadata": {},
   "outputs": [
    {
     "data": {
      "text/plain": [
       "['apple', 'banana', 60, 'banana']"
      ]
     },
     "execution_count": 6,
     "metadata": {},
     "output_type": "execute_result"
    }
   ],
   "source": [
    "#insert\n",
    "fruits=['apple','banana','banana']\n",
    "fruits.insert(2,60)\n",
    "fruits"
   ]
  },
  {
   "cell_type": "code",
   "execution_count": 8,
   "id": "47ab252a",
   "metadata": {},
   "outputs": [
    {
     "data": {
      "text/plain": [
       "['apple', 'banana', 'cherry']"
      ]
     },
     "execution_count": 8,
     "metadata": {},
     "output_type": "execute_result"
    }
   ],
   "source": [
    "#remove\n",
    "fruits=['apple','banana','banana','cherry']\n",
    "fruits.remove('banana')\n",
    "fruits\n"
   ]
  },
  {
   "cell_type": "code",
   "execution_count": 9,
   "id": "478a377f",
   "metadata": {},
   "outputs": [
    {
     "data": {
      "text/plain": [
       "'banana'"
      ]
     },
     "execution_count": 9,
     "metadata": {},
     "output_type": "execute_result"
    }
   ],
   "source": [
    "#POP(INDEX=-1)\n",
    "fruits=['apple','banana','banana']\n",
    "fruits.pop()"
   ]
  },
  {
   "cell_type": "code",
   "execution_count": 10,
   "id": "eac8367d",
   "metadata": {},
   "outputs": [
    {
     "data": {
      "text/plain": [
       "[]"
      ]
     },
     "execution_count": 10,
     "metadata": {},
     "output_type": "execute_result"
    }
   ],
   "source": [
    "#clear\n",
    "fruits=['apple','banana','banana','cherry']\n",
    "fruits.clear()\n",
    "fruits\n"
   ]
  },
  {
   "cell_type": "code",
   "execution_count": 20,
   "id": "80a3fcdb",
   "metadata": {},
   "outputs": [
    {
     "data": {
      "text/plain": [
       "0"
      ]
     },
     "execution_count": 20,
     "metadata": {},
     "output_type": "execute_result"
    }
   ],
   "source": [
    "#index()\n",
    "fruits=['apple','cherry','banana','cherry','cherry']\n",
    "fruits.index('apple')\n",
    "\n"
   ]
  },
  {
   "cell_type": "code",
   "execution_count": 23,
   "id": "6a5b726d",
   "metadata": {},
   "outputs": [
    {
     "data": {
      "text/plain": [
       "3"
      ]
     },
     "execution_count": 23,
     "metadata": {},
     "output_type": "execute_result"
    }
   ],
   "source": [
    "#count\n",
    "fruits=['apple','cherry','banana','cherry','cherry']\n",
    "fruits.count(\"cherry\")\n",
    "\n"
   ]
  },
  {
   "cell_type": "code",
   "execution_count": 28,
   "id": "2ffeb492",
   "metadata": {},
   "outputs": [
    {
     "data": {
      "text/plain": [
       "[1, 3, 4, 5, 7, 8, 9]"
      ]
     },
     "execution_count": 28,
     "metadata": {},
     "output_type": "execute_result"
    }
   ],
   "source": [
    "#sort\n",
    "\n",
    "numbers"
   ]
  },
  {
   "cell_type": "code",
   "execution_count": 29,
   "id": "c96569c8",
   "metadata": {},
   "outputs": [],
   "source": [
    "numbers.sort(reverse=True)"
   ]
  },
  {
   "cell_type": "code",
   "execution_count": 30,
   "id": "1a305df9",
   "metadata": {},
   "outputs": [
    {
     "data": {
      "text/plain": [
       "[9, 8, 7, 5, 4, 3, 1]"
      ]
     },
     "execution_count": 30,
     "metadata": {},
     "output_type": "execute_result"
    }
   ],
   "source": [
    "numbers"
   ]
  },
  {
   "cell_type": "code",
   "execution_count": 31,
   "id": "93929e5f",
   "metadata": {},
   "outputs": [
    {
     "data": {
      "text/plain": [
       "['cherry', 'cherry', 'banana', 'cherry', 'apple']"
      ]
     },
     "execution_count": 31,
     "metadata": {},
     "output_type": "execute_result"
    }
   ],
   "source": [
    "fruits=['apple','cherry','banana','cherry','cherry']\n",
    "fruits.reverse()\n",
    "fruits"
   ]
  },
  {
   "cell_type": "code",
   "execution_count": 33,
   "id": "eca342a5",
   "metadata": {},
   "outputs": [
    {
     "data": {
      "text/plain": [
       "'apple_cherry_banana_cherry_cherry'"
      ]
     },
     "execution_count": 33,
     "metadata": {},
     "output_type": "execute_result"
    }
   ],
   "source": [
    "fruits=['apple','cherry','banana','cherry','cherry']\n",
    "fruits_string='_'.join(fruits)\n",
    "fruits_string"
   ]
  },
  {
   "cell_type": "code",
   "execution_count": 36,
   "id": "1c3b598f",
   "metadata": {},
   "outputs": [
    {
     "data": {
      "text/plain": [
       "9"
      ]
     },
     "execution_count": 36,
     "metadata": {},
     "output_type": "execute_result"
    }
   ],
   "source": [
    "#max()\n",
    "numbers=[3,1,5,8,9,4,7]\n",
    "max_value=max(numbers)\n",
    "max(numbers)"
   ]
  },
  {
   "cell_type": "code",
   "execution_count": 37,
   "id": "e9879d00",
   "metadata": {},
   "outputs": [
    {
     "data": {
      "text/plain": [
       "1"
      ]
     },
     "execution_count": 37,
     "metadata": {},
     "output_type": "execute_result"
    }
   ],
   "source": [
    "#min\n",
    "numbers=[3,1,5,8,9,4,7]\n",
    "min_value=min(numbers)\n",
    "min(numbers)"
   ]
  },
  {
   "cell_type": "code",
   "execution_count": 38,
   "id": "1c9072e1",
   "metadata": {},
   "outputs": [
    {
     "data": {
      "text/plain": [
       "37"
      ]
     },
     "execution_count": 38,
     "metadata": {},
     "output_type": "execute_result"
    }
   ],
   "source": [
    "#sum()\n",
    "numbers=[3,1,5,8,9,4,7]\n",
    "sum_value=sum(numbers)\n",
    "sum(numbers)"
   ]
  },
  {
   "cell_type": "code",
   "execution_count": 39,
   "id": "62e769bc",
   "metadata": {},
   "outputs": [
    {
     "data": {
      "text/plain": [
       "7"
      ]
     },
     "execution_count": 39,
     "metadata": {},
     "output_type": "execute_result"
    }
   ],
   "source": [
    "#len\n",
    "numbers=[3,1,5,8,9,4,7]\n",
    "len_value=len(numbers)\n",
    "len(numbers)"
   ]
  },
  {
   "cell_type": "code",
   "execution_count": 40,
   "id": "eda28cda",
   "metadata": {},
   "outputs": [
    {
     "data": {
      "text/plain": [
       "5"
      ]
     },
     "execution_count": 40,
     "metadata": {},
     "output_type": "execute_result"
    }
   ],
   "source": [
    "fruits=['apple','cherry','banana','cherry','cherry']\n",
    "len(fruits)"
   ]
  },
  {
   "cell_type": "code",
   "execution_count": 42,
   "id": "8d4112a2",
   "metadata": {},
   "outputs": [
    {
     "data": {
      "text/plain": [
       "5"
      ]
     },
     "execution_count": 42,
     "metadata": {},
     "output_type": "execute_result"
    }
   ],
   "source": [
    "letters=['apple','cherry','banana','cherry','cherry']\n",
    "len(letters)"
   ]
  },
  {
   "cell_type": "code",
   "execution_count": 44,
   "id": "a15e689c",
   "metadata": {},
   "outputs": [
    {
     "data": {
      "text/plain": [
       "False"
      ]
     },
     "execution_count": 44,
     "metadata": {},
     "output_type": "execute_result"
    }
   ],
   "source": [
    "#all()\n",
    "bool_list=[True, True,False]\n",
    "all(bool_list)"
   ]
  },
  {
   "cell_type": "code",
   "execution_count": 45,
   "id": "59ce8aa5",
   "metadata": {},
   "outputs": [
    {
     "data": {
      "text/plain": [
       "True"
      ]
     },
     "execution_count": 45,
     "metadata": {},
     "output_type": "execute_result"
    }
   ],
   "source": [
    "all(numbers)"
   ]
  },
  {
   "cell_type": "code",
   "execution_count": 46,
   "id": "548be211",
   "metadata": {},
   "outputs": [
    {
     "data": {
      "text/plain": [
       "True"
      ]
     },
     "execution_count": 46,
     "metadata": {},
     "output_type": "execute_result"
    }
   ],
   "source": [
    "#any()\n",
    "bool_list=[True, True,False]\n",
    "any(bool_list)"
   ]
  },
  {
   "cell_type": "code",
   "execution_count": 51,
   "id": "4bc042de",
   "metadata": {},
   "outputs": [
    {
     "data": {
      "text/plain": [
       "['apple', 'banana', 'cherry', 'cherry']"
      ]
     },
     "execution_count": 51,
     "metadata": {},
     "output_type": "execute_result"
    }
   ],
   "source": [
    "#del()\n",
    "fruits=['apple','cherry','banana','cherry','cherry']\n",
    "del fruits[1]\n",
    "fruits"
   ]
  },
  {
   "cell_type": "code",
   "execution_count": 53,
   "id": "cf5938aa",
   "metadata": {},
   "outputs": [
    {
     "data": {
      "text/plain": [
       "[1, 3, 4, 5, 7, 8, 9]"
      ]
     },
     "execution_count": 53,
     "metadata": {},
     "output_type": "execute_result"
    }
   ],
   "source": [
    "numbers=[3,1,5,8,9,4,7]\n",
    "numbers.sort()\n",
    "numbers"
   ]
  },
  {
   "cell_type": "code",
   "execution_count": 55,
   "id": "325aefa6",
   "metadata": {},
   "outputs": [
    {
     "data": {
      "text/plain": [
       "[1, 3, 4, 5, 7, 8, 9]"
      ]
     },
     "execution_count": 55,
     "metadata": {},
     "output_type": "execute_result"
    }
   ],
   "source": [
    "a=[3,1,5,8,9,4,7]\n",
    "sorted(a)"
   ]
  },
  {
   "cell_type": "code",
   "execution_count": 56,
   "id": "1ec06aad",
   "metadata": {},
   "outputs": [
    {
     "data": {
      "text/plain": [
       "[1, 4, 9, 16, 25]"
      ]
     },
     "execution_count": 56,
     "metadata": {},
     "output_type": "execute_result"
    }
   ],
   "source": [
    "#list comprehension\n",
    "squares=[i**2 for i in range(1,6)]\n",
    "1,2,3,4,5\n",
    "squares"
   ]
  },
  {
   "cell_type": "code",
   "execution_count": 63,
   "id": "b9eefaeb",
   "metadata": {},
   "outputs": [],
   "source": [
    "for i in range (1,6):\n",
    "    squares.append(i**2)"
   ]
  },
  {
   "cell_type": "code",
   "execution_count": 64,
   "id": "650a3df0",
   "metadata": {},
   "outputs": [
    {
     "data": {
      "text/plain": [
       "[1, 4, 9, 16, 25, 1, 4, 9, 16, 25, 36, 49, 1, 4, 9, 16, 25]"
      ]
     },
     "execution_count": 64,
     "metadata": {},
     "output_type": "execute_result"
    }
   ],
   "source": [
    "squares"
   ]
  },
  {
   "cell_type": "code",
   "execution_count": 65,
   "id": "4d2445f2",
   "metadata": {},
   "outputs": [],
   "source": [
    "#list comprehension\n",
    "even_squares=[]\n",
    "for i in range(1,11):\n",
    "    if i % 2==0:\n",
    "            even_squares.append(i**2)"
   ]
  },
  {
   "cell_type": "code",
   "execution_count": 66,
   "id": "6160e565",
   "metadata": {},
   "outputs": [
    {
     "data": {
      "text/plain": [
       "[4, 16, 36, 64, 100]"
      ]
     },
     "execution_count": 66,
     "metadata": {},
     "output_type": "execute_result"
    }
   ],
   "source": [
    "even_squares"
   ]
  },
  {
   "cell_type": "code",
   "execution_count": 69,
   "id": "d470f412",
   "metadata": {},
   "outputs": [
    {
     "data": {
      "text/plain": [
       "['apple', 'banana', 'cherry', 'red', 'yellow', 'blue']"
      ]
     },
     "execution_count": 69,
     "metadata": {},
     "output_type": "execute_result"
    }
   ],
   "source": [
    "#zip\n",
    "fruits=['apple','banana','cherry']\n",
    "colors=['red','yellow','blue']\n",
    "(fruits+colors)"
   ]
  },
  {
   "cell_type": "code",
   "execution_count": 78,
   "id": "38429df3",
   "metadata": {},
   "outputs": [
    {
     "data": {
      "text/plain": [
       "[[0, 1, 2],\n",
       " [0, 1, 2],\n",
       " [0, 1, 2],\n",
       " [1, 2, 3],\n",
       " [1, 2, 3],\n",
       " [1, 2, 3],\n",
       " [2, 3, 4],\n",
       " [2, 3, 4],\n",
       " [2, 3, 4]]"
      ]
     },
     "execution_count": 78,
     "metadata": {},
     "output_type": "execute_result"
    }
   ],
   "source": [
    "matrix=[]\n",
    "for i in range(3):\n",
    "    row=[]\n",
    "    for j in range(3):\n",
    "        row.append(i+j)\n",
    "        matrix.append(row)\n",
    "matrix\n",
    "j=1\n",
    "j=0\n",
    "matrix\n",
    "    "
   ]
  },
  {
   "cell_type": "code",
   "execution_count": null,
   "id": "659a2f08",
   "metadata": {},
   "outputs": [],
   "source": [
    "# You have a list representing your daily to-do tasks: \n",
    "# tasks = [\"Wake up\", \"Brush teeth\", \"Go for a run\", \"Start working\"]. \n",
    "# You realize you forgot to add \"Have breakfast\" between \"Brush teeth\" and \"Go for a run.\" \n",
    "# How would you insert this task in the correct position?"
   ]
  },
  {
   "cell_type": "code",
   "execution_count": 80,
   "id": "9c3ed0cd",
   "metadata": {
    "scrolled": true
   },
   "outputs": [
    {
     "name": "stdout",
     "output_type": "stream",
     "text": [
      "['Wake up', 'Brush teeth', 'Go for a run', 'Start working', 'Have breakfast']\n"
     ]
    }
   ],
   "source": [
    "tasks = [\"Wake up\", \"Brush teeth\", \"Go for a run\", \"Start working\"]\n",
    "tasks.insert(8, \"Have breakfast\")\n",
    "print(tasks)"
   ]
  },
  {
   "cell_type": "code",
   "execution_count": 7,
   "id": "2e629881",
   "metadata": {
    "scrolled": true
   },
   "outputs": [
    {
     "data": {
      "text/plain": [
       "1"
      ]
     },
     "execution_count": 7,
     "metadata": {},
     "output_type": "execute_result"
    }
   ],
   "source": [
    "#charcterstics of tuples\n",
    "#ordered\n",
    "t=(\"hello\",1,29,3,4,55,56,65)\n",
    "t[0:2]\n",
    "\n",
    "my_tuple=(1,2,3)\n",
    "my_tuple[0]"
   ]
  },
  {
   "cell_type": "code",
   "execution_count": 9,
   "id": "a53145bf",
   "metadata": {},
   "outputs": [
    {
     "data": {
      "text/plain": [
       "1"
      ]
     },
     "execution_count": 9,
     "metadata": {},
     "output_type": "execute_result"
    }
   ],
   "source": [
    "#immutable(tuples cannot be modified)\n",
    "my_tuple=(1,2,3)\n",
    "my_tuple[0]\n"
   ]
  },
  {
   "cell_type": "code",
   "execution_count": 11,
   "id": "be7e2d74",
   "metadata": {
    "scrolled": false
   },
   "outputs": [
    {
     "name": "stdout",
     "output_type": "stream",
     "text": [
      "(1, 'hello', 3.14)\n"
     ]
    }
   ],
   "source": [
    "#heterogenous\n",
    "my_tuple=(1,\"hello\",3.14)\n",
    "print(my_tuple)"
   ]
  },
  {
   "cell_type": "code",
   "execution_count": 20,
   "id": "dc56d7bc",
   "metadata": {},
   "outputs": [
    {
     "name": "stdout",
     "output_type": "stream",
     "text": [
      "30\n",
      "(20, 30, 40)\n"
     ]
    }
   ],
   "source": [
    "#indexing and slicing\n",
    "my_tuple=(10,20,30,40,50)\n",
    "print(my_tuple[2])\n",
    "print(my_tuple[1:4])"
   ]
  },
  {
   "cell_type": "code",
   "execution_count": 1,
   "id": "5f44f75d",
   "metadata": {},
   "outputs": [
    {
     "name": "stdout",
     "output_type": "stream",
     "text": [
      "(1, 2, 3)\n"
     ]
    }
   ],
   "source": [
    "#packing\n",
    "my_tuple=1,2,3\n",
    "print(my_tuple)"
   ]
  },
  {
   "cell_type": "code",
   "execution_count": 2,
   "id": "f5a99141",
   "metadata": {
    "scrolled": true
   },
   "outputs": [
    {
     "data": {
      "text/plain": [
       "tuple"
      ]
     },
     "execution_count": 2,
     "metadata": {},
     "output_type": "execute_result"
    }
   ],
   "source": [
    "type(my_tuple)"
   ]
  },
  {
   "cell_type": "code",
   "execution_count": 23,
   "id": "2a44a782",
   "metadata": {
    "scrolled": true
   },
   "outputs": [
    {
     "name": "stdout",
     "output_type": "stream",
     "text": [
      "\n"
     ]
    }
   ],
   "source": [
    "a=1\n",
    "b=2\n",
    "c=3\n",
    "print()"
   ]
  },
  {
   "cell_type": "code",
   "execution_count": 24,
   "id": "c3d26a37",
   "metadata": {},
   "outputs": [
    {
     "data": {
      "text/plain": [
       "1"
      ]
     },
     "execution_count": 24,
     "metadata": {},
     "output_type": "execute_result"
    }
   ],
   "source": [
    "a"
   ]
  },
  {
   "cell_type": "code",
   "execution_count": 25,
   "id": "3c999d0d",
   "metadata": {},
   "outputs": [
    {
     "data": {
      "text/plain": [
       "2"
      ]
     },
     "execution_count": 25,
     "metadata": {},
     "output_type": "execute_result"
    }
   ],
   "source": [
    "b"
   ]
  },
  {
   "cell_type": "code",
   "execution_count": 26,
   "id": "954bb257",
   "metadata": {},
   "outputs": [
    {
     "data": {
      "text/plain": [
       "3"
      ]
     },
     "execution_count": 26,
     "metadata": {},
     "output_type": "execute_result"
    }
   ],
   "source": [
    "c"
   ]
  },
  {
   "cell_type": "code",
   "execution_count": 27,
   "id": "770a1e52",
   "metadata": {},
   "outputs": [
    {
     "name": "stdout",
     "output_type": "stream",
     "text": [
      "('sri', 26, 'engineer')\n"
     ]
    }
   ],
   "source": [
    "#ex:simple tuple crestion\n",
    "person=(\"sri\",26,\"engineer\")\n",
    "print(person)\n"
   ]
  },
  {
   "cell_type": "code",
   "execution_count": 28,
   "id": "d348b44e",
   "metadata": {},
   "outputs": [
    {
     "name": "stdout",
     "output_type": "stream",
     "text": [
      "10 20 30\n"
     ]
    }
   ],
   "source": [
    "#ex2: accessing tuple elements\n",
    "coordinates=(10,20,30)\n",
    "x=coordinates[0]\n",
    "y=coordinates[1]\n",
    "z=coordinates[2]\n",
    "print(x,y,z)"
   ]
  },
  {
   "cell_type": "code",
   "execution_count": 36,
   "id": "307de844",
   "metadata": {},
   "outputs": [],
   "source": [
    "a = [[1,2,3,4],[5,6,7,8]]\n"
   ]
  },
  {
   "cell_type": "code",
   "execution_count": 41,
   "id": "abee3c99",
   "metadata": {},
   "outputs": [
    {
     "name": "stdout",
     "output_type": "stream",
     "text": [
      "[[1, 2, 3, 4], [5, 6, 7, 8]]\n"
     ]
    },
    {
     "data": {
      "text/plain": [
       "1"
      ]
     },
     "execution_count": 41,
     "metadata": {},
     "output_type": "execute_result"
    }
   ],
   "source": [
    "print(a[0:4])\n",
    "a[0][0]"
   ]
  },
  {
   "cell_type": "code",
   "execution_count": 42,
   "id": "55edde53",
   "metadata": {},
   "outputs": [],
   "source": [
    "a = [[1,2,3,4],[5,6,7,8,[1,2,3,4]]]"
   ]
  },
  {
   "cell_type": "code",
   "execution_count": 45,
   "id": "a687753b",
   "metadata": {},
   "outputs": [
    {
     "data": {
      "text/plain": [
       "1"
      ]
     },
     "execution_count": 45,
     "metadata": {},
     "output_type": "execute_result"
    }
   ],
   "source": [
    "a[0][0]"
   ]
  },
  {
   "cell_type": "code",
   "execution_count": 46,
   "id": "b17b7740",
   "metadata": {},
   "outputs": [],
   "source": [
    "#ex3:nested tuples\n",
    "nested_tuple =(1,(2,3),(4,(5,6)))"
   ]
  },
  {
   "cell_type": "code",
   "execution_count": 50,
   "id": "9653e3ab",
   "metadata": {},
   "outputs": [
    {
     "data": {
      "text/plain": [
       "2"
      ]
     },
     "execution_count": 50,
     "metadata": {},
     "output_type": "execute_result"
    }
   ],
   "source": [
    "nested_tuple[1][0]"
   ]
  },
  {
   "cell_type": "code",
   "execution_count": 52,
   "id": "e77c4387",
   "metadata": {},
   "outputs": [
    {
     "data": {
      "text/plain": [
       "6"
      ]
     },
     "execution_count": 52,
     "metadata": {},
     "output_type": "execute_result"
    }
   ],
   "source": [
    "nested_tuple[2][1][1]"
   ]
  },
  {
   "cell_type": "code",
   "execution_count": 53,
   "id": "e453273b",
   "metadata": {},
   "outputs": [
    {
     "name": "stdout",
     "output_type": "stream",
     "text": [
      "6\n"
     ]
    }
   ],
   "source": [
    "print(nested_tuple[2][1][1])"
   ]
  },
  {
   "cell_type": "code",
   "execution_count": 54,
   "id": "93b4f107",
   "metadata": {},
   "outputs": [],
   "source": [
    "#slicing a tuple\n",
    "#creating a tuple\n",
    "my_tuple=('apple','cherry','banana','cherry','cherry')"
   ]
  },
  {
   "cell_type": "code",
   "execution_count": 56,
   "id": "ae699658",
   "metadata": {},
   "outputs": [],
   "source": [
    "slice_1=my_tuple[1:3]\n",
    "slice_2=my_tuple[:4]\n",
    "slice_3=my_tuple[2:]"
   ]
  },
  {
   "cell_type": "code",
   "execution_count": 57,
   "id": "eb7738f6",
   "metadata": {},
   "outputs": [
    {
     "name": "stdout",
     "output_type": "stream",
     "text": [
      "('cherry', 'banana')\n",
      "('apple', 'cherry', 'banana', 'cherry')\n",
      "('banana', 'cherry', 'cherry')\n"
     ]
    }
   ],
   "source": [
    "print(slice_1)\n",
    "print(slice_2)\n",
    "print(slice_3)"
   ]
  },
  {
   "cell_type": "code",
   "execution_count": 67,
   "id": "52d78968",
   "metadata": {},
   "outputs": [
    {
     "name": "stdout",
     "output_type": "stream",
     "text": [
      "cherry\n"
     ]
    }
   ],
   "source": [
    "fruits=(\"apple\",\"banana\",\"cherry\",\"date\",\"eldrberry\")\n",
    "fruits=my_tuple[3]\n",
    "print(fruits)"
   ]
  },
  {
   "cell_type": "code",
   "execution_count": 68,
   "id": "77dca68d",
   "metadata": {},
   "outputs": [
    {
     "name": "stdout",
     "output_type": "stream",
     "text": [
      "(10, 20, 30)\n"
     ]
    }
   ],
   "source": [
    "numbers=(10,20,30,40,50)\n",
    "first_three=numbers[:3]\n",
    "print(first_three)\n"
   ]
  },
  {
   "cell_type": "code",
   "execution_count": 70,
   "id": "9d9f15fb",
   "metadata": {},
   "outputs": [
    {
     "name": "stdout",
     "output_type": "stream",
     "text": [
      "purple\n"
     ]
    }
   ],
   "source": [
    "colors=(\"red\",\"blue\",\"green\",\"yellow\",\"purple\")\n",
    "last_color=colors[-1]\n",
    "print(last_color)"
   ]
  },
  {
   "cell_type": "code",
   "execution_count": 73,
   "id": "2ceabae7",
   "metadata": {},
   "outputs": [
    {
     "name": "stdout",
     "output_type": "stream",
     "text": [
      "5\n"
     ]
    }
   ],
   "source": [
    "nested_tuple=(1,(2,3),(4,(5,6),7),8)\n",
    "element_five = nested_tuple[2][1][0]\n",
    "print(element_five)"
   ]
  },
  {
   "cell_type": "code",
   "execution_count": 94,
   "id": "5b0e6270",
   "metadata": {},
   "outputs": [
    {
     "data": {
      "text/plain": [
       "tuple"
      ]
     },
     "execution_count": 94,
     "metadata": {},
     "output_type": "execute_result"
    }
   ],
   "source": [
    "#workarounds of editing a tuple\n",
    "fruits=(\"apple\",\"banana\",\"cherry\")\n",
    "type(fruits)"
   ]
  },
  {
   "cell_type": "code",
   "execution_count": 95,
   "id": "7036fbc5",
   "metadata": {},
   "outputs": [],
   "source": [
    "a=list(fruits)"
   ]
  },
  {
   "cell_type": "code",
   "execution_count": 96,
   "id": "302cde1e",
   "metadata": {},
   "outputs": [
    {
     "data": {
      "text/plain": [
       "list"
      ]
     },
     "execution_count": 96,
     "metadata": {},
     "output_type": "execute_result"
    }
   ],
   "source": [
    "type(a)"
   ]
  },
  {
   "cell_type": "code",
   "execution_count": 97,
   "id": "22adb511",
   "metadata": {},
   "outputs": [],
   "source": [
    "a.append(\"mango\")"
   ]
  },
  {
   "cell_type": "code",
   "execution_count": 98,
   "id": "48822c39",
   "metadata": {},
   "outputs": [
    {
     "data": {
      "text/plain": [
       "['apple', 'banana', 'cherry', 'mango']"
      ]
     },
     "execution_count": 98,
     "metadata": {},
     "output_type": "execute_result"
    }
   ],
   "source": [
    "a"
   ]
  },
  {
   "cell_type": "code",
   "execution_count": 99,
   "id": "d5cbbffe",
   "metadata": {},
   "outputs": [
    {
     "data": {
      "text/plain": [
       "tuple"
      ]
     },
     "execution_count": 99,
     "metadata": {},
     "output_type": "execute_result"
    }
   ],
   "source": [
    "type(b)"
   ]
  },
  {
   "cell_type": "code",
   "execution_count": 100,
   "id": "f30ec8c2",
   "metadata": {},
   "outputs": [],
   "source": [
    "b=tuple(a)"
   ]
  },
  {
   "cell_type": "code",
   "execution_count": 101,
   "id": "98670f57",
   "metadata": {},
   "outputs": [
    {
     "data": {
      "text/plain": [
       "('apple', 'banana', 'cherry', 'mango')"
      ]
     },
     "execution_count": 101,
     "metadata": {},
     "output_type": "execute_result"
    }
   ],
   "source": [
    "b"
   ]
  },
  {
   "cell_type": "code",
   "execution_count": 102,
   "id": "2abbf7d6",
   "metadata": {},
   "outputs": [
    {
     "data": {
      "text/plain": [
       "tuple"
      ]
     },
     "execution_count": 102,
     "metadata": {},
     "output_type": "execute_result"
    }
   ],
   "source": [
    "type(b)"
   ]
  },
  {
   "cell_type": "code",
   "execution_count": 103,
   "id": "2759a5cd",
   "metadata": {},
   "outputs": [
    {
     "data": {
      "text/plain": [
       "list"
      ]
     },
     "execution_count": 103,
     "metadata": {},
     "output_type": "execute_result"
    }
   ],
   "source": [
    "type(a)"
   ]
  },
  {
   "cell_type": "code",
   "execution_count": 105,
   "id": "56a0364f",
   "metadata": {},
   "outputs": [
    {
     "name": "stdout",
     "output_type": "stream",
     "text": [
      "('apple', 'blueberry', 'cherry')\n"
     ]
    }
   ],
   "source": [
    "fruits=(\"apple\",\"banana\",\"cherry\")\n",
    "fruits_new=fruits[:1]+(\"blueberry\",)+fruits[2:]\n",
    "print(fruits_new)"
   ]
  },
  {
   "cell_type": "code",
   "execution_count": 106,
   "id": "e68ed071",
   "metadata": {},
   "outputs": [
    {
     "name": "stdout",
     "output_type": "stream",
     "text": [
      "('apple', 'banana', 'cherry')\n"
     ]
    }
   ],
   "source": [
    "#using concatenation\n",
    "fruits=(\"apple\",\"banana\",\"cherry\")\n",
    "\n"
   ]
  },
  {
   "cell_type": "code",
   "execution_count": 109,
   "id": "3f8aa3c2",
   "metadata": {},
   "outputs": [],
   "source": [
    "fruits1=fruits+(\"date\",)"
   ]
  },
  {
   "cell_type": "code",
   "execution_count": 110,
   "id": "16fdf2f2",
   "metadata": {},
   "outputs": [
    {
     "name": "stdout",
     "output_type": "stream",
     "text": [
      "('apple', 'banana', 'cherry')\n"
     ]
    }
   ],
   "source": [
    "print(fruits)"
   ]
  },
  {
   "cell_type": "code",
   "execution_count": 116,
   "id": "113c807f",
   "metadata": {},
   "outputs": [
    {
     "data": {
      "text/plain": [
       "('apple', 'banana', 'cherry')"
      ]
     },
     "execution_count": 116,
     "metadata": {},
     "output_type": "execute_result"
    }
   ],
   "source": [
    "my_tuple=(\"apple\",\"banana\",\"cherry\")\n",
    "my_tuple"
   ]
  },
  {
   "cell_type": "code",
   "execution_count": 123,
   "id": "ce002b80",
   "metadata": {},
   "outputs": [
    {
     "data": {
      "text/plain": [
       "3"
      ]
     },
     "execution_count": 123,
     "metadata": {},
     "output_type": "execute_result"
    }
   ],
   "source": [
    "len(my_tuple)"
   ]
  },
  {
   "cell_type": "code",
   "execution_count": 124,
   "id": "b63b1f8a",
   "metadata": {},
   "outputs": [],
   "source": [
    "my_tuple=(\"A\",\"B\",\"C\",\"D\")"
   ]
  },
  {
   "cell_type": "code",
   "execution_count": 125,
   "id": "ad3651a0",
   "metadata": {},
   "outputs": [
    {
     "data": {
      "text/plain": [
       "4"
      ]
     },
     "execution_count": 125,
     "metadata": {},
     "output_type": "execute_result"
    }
   ],
   "source": [
    "len(my_tuple)"
   ]
  },
  {
   "cell_type": "code",
   "execution_count": 126,
   "id": "41427f24",
   "metadata": {},
   "outputs": [
    {
     "name": "stdout",
     "output_type": "stream",
     "text": [
      "3\n"
     ]
    }
   ],
   "source": [
    "my_tuple=(10,20,30)\n",
    "length=len(my_tuple)\n",
    "print(length)"
   ]
  },
  {
   "cell_type": "code",
   "execution_count": 127,
   "id": "2ce3367c",
   "metadata": {},
   "outputs": [],
   "source": [
    "t=(1,2,45,6,7,8,8)"
   ]
  },
  {
   "cell_type": "code",
   "execution_count": 128,
   "id": "ce874fa6",
   "metadata": {},
   "outputs": [
    {
     "data": {
      "text/plain": [
       "45"
      ]
     },
     "execution_count": 128,
     "metadata": {},
     "output_type": "execute_result"
    }
   ],
   "source": [
    "max(t)"
   ]
  },
  {
   "cell_type": "code",
   "execution_count": 130,
   "id": "f29b9720",
   "metadata": {},
   "outputs": [
    {
     "data": {
      "text/plain": [
       "30"
      ]
     },
     "execution_count": 130,
     "metadata": {},
     "output_type": "execute_result"
    }
   ],
   "source": [
    "max(my_tuple)"
   ]
  },
  {
   "cell_type": "code",
   "execution_count": 131,
   "id": "23ebfc59",
   "metadata": {},
   "outputs": [
    {
     "name": "stdout",
     "output_type": "stream",
     "text": [
      "3\n"
     ]
    }
   ],
   "source": [
    "my_tuple=(10,20,30)\n",
    "length=len(my_tuple)\n",
    "print(length)"
   ]
  },
  {
   "cell_type": "code",
   "execution_count": 132,
   "id": "437f29e3",
   "metadata": {},
   "outputs": [
    {
     "data": {
      "text/plain": [
       "10"
      ]
     },
     "execution_count": 132,
     "metadata": {},
     "output_type": "execute_result"
    }
   ],
   "source": [
    "min(my_tuple)"
   ]
  },
  {
   "cell_type": "code",
   "execution_count": 135,
   "id": "1d6cee96",
   "metadata": {},
   "outputs": [],
   "source": [
    "t=(1,2,45,6,7,8,8)\n"
   ]
  },
  {
   "cell_type": "code",
   "execution_count": 137,
   "id": "adc0e5a9",
   "metadata": {},
   "outputs": [
    {
     "data": {
      "text/plain": [
       "1"
      ]
     },
     "execution_count": 137,
     "metadata": {},
     "output_type": "execute_result"
    }
   ],
   "source": [
    "min(t)"
   ]
  },
  {
   "cell_type": "code",
   "execution_count": 1,
   "id": "ae55e80b",
   "metadata": {},
   "outputs": [
    {
     "ename": "NameError",
     "evalue": "name 'my_tuple' is not defined",
     "output_type": "error",
     "traceback": [
      "\u001b[1;31m---------------------------------------------------------------------------\u001b[0m",
      "\u001b[1;31mNameError\u001b[0m                                 Traceback (most recent call last)",
      "Input \u001b[1;32mIn [1]\u001b[0m, in \u001b[0;36m<cell line: 5>\u001b[1;34m()\u001b[0m\n\u001b[0;32m      1\u001b[0m \u001b[38;5;66;03m# Question 2: \u001b[39;00m\n\u001b[0;32m      2\u001b[0m \u001b[38;5;66;03m# You have a tuple of city names. How would you check if the city 'Paris' is in the tuple?\u001b[39;00m\n\u001b[0;32m      4\u001b[0m cities \u001b[38;5;241m=\u001b[39m (\u001b[38;5;124m\"\u001b[39m\u001b[38;5;124mNew York\u001b[39m\u001b[38;5;124m\"\u001b[39m, \u001b[38;5;124m\"\u001b[39m\u001b[38;5;124mLos Angeles\u001b[39m\u001b[38;5;124m\"\u001b[39m, \u001b[38;5;124m\"\u001b[39m\u001b[38;5;124mParis\u001b[39m\u001b[38;5;124m\"\u001b[39m, \u001b[38;5;124m\"\u001b[39m\u001b[38;5;124mLondon\u001b[39m\u001b[38;5;124m\"\u001b[39m, \u001b[38;5;124m\"\u001b[39m\u001b[38;5;124mTokyo\u001b[39m\u001b[38;5;124m\"\u001b[39m)\n\u001b[1;32m----> 5\u001b[0m cities \u001b[38;5;241m=\u001b[39m \u001b[43mmy_tuple\u001b[49m[\u001b[38;5;241m2\u001b[39m]\n\u001b[0;32m      6\u001b[0m \u001b[38;5;28mprint\u001b[39m(cities)\n",
      "\u001b[1;31mNameError\u001b[0m: name 'my_tuple' is not defined"
     ]
    }
   ],
   "source": [
    "# Question 2: \n",
    "# You have a tuple of city names. How would you check if the city 'Paris' is in the tuple?\n",
    "\n",
    "cities = (\"New York\", \"Los Angeles\", \"Paris\", \"London\", \"Tokyo\")\n",
    "cities = my_tuple[2]\n",
    "print(cities)"
   ]
  },
  {
   "cell_type": "code",
   "execution_count": null,
   "id": "1af06ead",
   "metadata": {},
   "outputs": [],
   "source": [
    "# Given a tuple representing the dimensions of a rectangular box (length, width, height), \n",
    "# how would you calculate the volume of the box?\n"
   ]
  },
  {
   "cell_type": "code",
   "execution_count": null,
   "id": "2e38bfb4",
   "metadata": {},
   "outputs": [],
   "source": []
  }
 ],
 "metadata": {
  "kernelspec": {
   "display_name": "Python 3 (ipykernel)",
   "language": "python",
   "name": "python3"
  },
  "language_info": {
   "codemirror_mode": {
    "name": "ipython",
    "version": 3
   },
   "file_extension": ".py",
   "mimetype": "text/x-python",
   "name": "python",
   "nbconvert_exporter": "python",
   "pygments_lexer": "ipython3",
   "version": "3.9.12"
  }
 },
 "nbformat": 4,
 "nbformat_minor": 5
}
