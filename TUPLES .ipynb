{
 "cells": [
  {
   "cell_type": "markdown",
   "id": "15f3f267",
   "metadata": {},
   "source": [
    "# TUPLES\n",
    "\n",
    "tuple is an ordered, immutable collection of items. it contain any data"
   ]
  },
  {
   "cell_type": "code",
   "execution_count": 3,
   "id": "e33d68bc",
   "metadata": {},
   "outputs": [
    {
     "name": "stdout",
     "output_type": "stream",
     "text": [
      "(20, 30, 40)\n"
     ]
    }
   ],
   "source": [
    "my_tuple=10,20,30,40,50\n",
    "print(my_tuple[1:4])"
   ]
  },
  {
   "cell_type": "code",
   "execution_count": 4,
   "id": "6e1deafd",
   "metadata": {},
   "outputs": [
    {
     "data": {
      "text/plain": [
       "tuple"
      ]
     },
     "execution_count": 4,
     "metadata": {},
     "output_type": "execute_result"
    }
   ],
   "source": [
    "my_tuple=1,2,3\n",
    "type(my_tuple)"
   ]
  },
  {
   "cell_type": "code",
   "execution_count": 5,
   "id": "6b9d9db9-97f7-4d76-b7cc-816ca72cf0f6",
   "metadata": {},
   "outputs": [
    {
     "name": "stdout",
     "output_type": "stream",
     "text": [
      "(1, 2, 3)\n"
     ]
    }
   ],
   "source": [
    "my_tuple=1,2,3\n",
    "print(my_tuple)"
   ]
  },
  {
   "cell_type": "code",
   "execution_count": 6,
   "id": "7aa82ff5-4b13-4b56-8e60-e22155cc526c",
   "metadata": {},
   "outputs": [],
   "source": [
    "a,b,c=my_tuple"
   ]
  },
  {
   "cell_type": "code",
   "execution_count": 7,
   "id": "33325253-b862-4933-8937-269efbd0ab23",
   "metadata": {},
   "outputs": [
    {
     "data": {
      "text/plain": [
       "('hello', 1)"
      ]
     },
     "execution_count": 7,
     "metadata": {},
     "output_type": "execute_result"
    }
   ],
   "source": [
    "##characteristics of tuples\n",
    "#ordered\n",
    "\n",
    "t=(\"hello\",1,20,45,502.25,(1,2))\n",
    "t[0:2]\n",
    "(\"hello\",1)"
   ]
  },
  {
   "cell_type": "code",
   "execution_count": 8,
   "id": "ed942286-ff52-45f6-ab29-c49dad77241b",
   "metadata": {},
   "outputs": [],
   "source": [
    "my_tuple=(1,2,3)"
   ]
  },
  {
   "cell_type": "code",
   "execution_count": 9,
   "id": "fb814ecc-79da-4927-bc38-9e0631516d6e",
   "metadata": {},
   "outputs": [
    {
     "data": {
      "text/plain": [
       "1"
      ]
     },
     "execution_count": 9,
     "metadata": {},
     "output_type": "execute_result"
    }
   ],
   "source": [
    "my_tuple[0]"
   ]
  },
  {
   "cell_type": "code",
   "execution_count": 11,
   "id": "f6681418-75fc-4d87-9960-85e90268818e",
   "metadata": {},
   "outputs": [
    {
     "name": "stdout",
     "output_type": "stream",
     "text": [
      "(1, 'hello', 3.14)\n"
     ]
    }
   ],
   "source": [
    "#heterogeneous\n",
    "my_tuple=(1,\"hello\",3.14)\n",
    "print(my_tuple)"
   ]
  },
  {
   "cell_type": "code",
   "execution_count": 12,
   "id": "e03a78a5-e67b-488b-a457-b1f318ecd9e9",
   "metadata": {},
   "outputs": [
    {
     "name": "stdout",
     "output_type": "stream",
     "text": [
      "30\n",
      "(20, 30, 40)\n"
     ]
    }
   ],
   "source": [
    "#indexing and slicing\n",
    "my_tuple=(10,20,30,40,50)\n",
    "print(my_tuple[2])\n",
    "print(my_tuple[1:4])"
   ]
  },
  {
   "cell_type": "code",
   "execution_count": 13,
   "id": "4577f9a9-84f1-4d5b-a6cb-910b927f779d",
   "metadata": {},
   "outputs": [
    {
     "data": {
      "text/plain": [
       "30"
      ]
     },
     "execution_count": 13,
     "metadata": {},
     "output_type": "execute_result"
    }
   ],
   "source": [
    "my_tuple=(10,20,30,40,50)\n",
    "my_tuple[2]"
   ]
  },
  {
   "cell_type": "code",
   "execution_count": 14,
   "id": "b0fdf40d-8f09-4ab7-86fd-c3b02f1e87cd",
   "metadata": {},
   "outputs": [
    {
     "data": {
      "text/plain": [
       "tuple"
      ]
     },
     "execution_count": 14,
     "metadata": {},
     "output_type": "execute_result"
    }
   ],
   "source": [
    "#packing and unpacking\n",
    "my_tuple=1,2,3\n",
    "type(my_tuple)"
   ]
  },
  {
   "cell_type": "code",
   "execution_count": 15,
   "id": "fa17ae8d-c293-4f62-a250-0028745f3f32",
   "metadata": {},
   "outputs": [
    {
     "name": "stdout",
     "output_type": "stream",
     "text": [
      "(1, 2, 3)\n"
     ]
    }
   ],
   "source": [
    "#packing\n",
    "tuple=1,2,3\n",
    "print(tuple)"
   ]
  },
  {
   "cell_type": "code",
   "execution_count": 16,
   "id": "f0e7b3c1-1957-4bc1-8807-890fda2d1833",
   "metadata": {},
   "outputs": [],
   "source": [
    "#unpacking\n",
    "a,b,c= my_tuple"
   ]
  },
  {
   "cell_type": "code",
   "execution_count": 17,
   "id": "229b212a-b6f8-4712-9e5a-53429bd9fe9f",
   "metadata": {},
   "outputs": [
    {
     "data": {
      "text/plain": [
       "1"
      ]
     },
     "execution_count": 17,
     "metadata": {},
     "output_type": "execute_result"
    }
   ],
   "source": [
    "a"
   ]
  },
  {
   "cell_type": "code",
   "execution_count": 18,
   "id": "1913c0e8-98d9-4c1e-bfad-9a8a44539359",
   "metadata": {},
   "outputs": [
    {
     "data": {
      "text/plain": [
       "2"
      ]
     },
     "execution_count": 18,
     "metadata": {},
     "output_type": "execute_result"
    }
   ],
   "source": [
    "b"
   ]
  },
  {
   "cell_type": "code",
   "execution_count": 53,
   "id": "c5949106-b58c-48a8-abeb-a4dce523b275",
   "metadata": {},
   "outputs": [
    {
     "data": {
      "text/plain": [
       "3"
      ]
     },
     "execution_count": 53,
     "metadata": {},
     "output_type": "execute_result"
    }
   ],
   "source": [
    "c"
   ]
  },
  {
   "cell_type": "code",
   "execution_count": 20,
   "id": "bb7faf08-99be-430c-9e0d-2e79c5f012e0",
   "metadata": {},
   "outputs": [
    {
     "name": "stdout",
     "output_type": "stream",
     "text": [
      "('priya', 22, 'engineer')\n"
     ]
    }
   ],
   "source": [
    "person=(\"priya\",22,\"engineer\")\n",
    "print(person)"
   ]
  },
  {
   "cell_type": "code",
   "execution_count": 21,
   "id": "2f1d888d-f285-4767-8f78-95898757a443",
   "metadata": {},
   "outputs": [
    {
     "name": "stdout",
     "output_type": "stream",
     "text": [
      "10 20 30\n"
     ]
    }
   ],
   "source": [
    "coordinates=(10,20,30)\n",
    "x=coordinates[0]\n",
    "y=coordinates[1]\n",
    "z=coordinates[2]\n",
    "print(x,y,z)"
   ]
  },
  {
   "cell_type": "code",
   "execution_count": 22,
   "id": "2acefbc2-ce09-4498-8934-840265ca546b",
   "metadata": {},
   "outputs": [
    {
     "data": {
      "text/plain": [
       "1"
      ]
     },
     "execution_count": 22,
     "metadata": {},
     "output_type": "execute_result"
    }
   ],
   "source": [
    "num= [[1,2,3,4],[5,6,7,8]]\n",
    "num[0][0]"
   ]
  },
  {
   "cell_type": "code",
   "execution_count": 23,
   "id": "b5510a66-ce69-430a-b6a8-1e97af4ffbb7",
   "metadata": {},
   "outputs": [
    {
     "data": {
      "text/plain": [
       "2"
      ]
     },
     "execution_count": 23,
     "metadata": {},
     "output_type": "execute_result"
    }
   ],
   "source": [
    "nested_tuple=(1,(2,3),(4,(5,6)))\n",
    "nested_tuple[1][0]"
   ]
  },
  {
   "cell_type": "code",
   "execution_count": 24,
   "id": "09f1fabf-6d40-46d4-b039-3f1335ddcfb0",
   "metadata": {},
   "outputs": [
    {
     "data": {
      "text/plain": [
       "6"
      ]
     },
     "execution_count": 24,
     "metadata": {},
     "output_type": "execute_result"
    }
   ],
   "source": [
    "nested_tuple[2][1][1]"
   ]
  },
  {
   "cell_type": "code",
   "execution_count": 25,
   "id": "f3975374-3d27-4b60-997b-4ac073ca03de",
   "metadata": {},
   "outputs": [
    {
     "name": "stdout",
     "output_type": "stream",
     "text": [
      "(2, 3)\n"
     ]
    }
   ],
   "source": [
    "#accessing elements \n",
    "#slicing\n",
    "tuple=(1,2,3,4,5,6)\n",
    "slice1=tuple[1:3]\n",
    "print(slice1)"
   ]
  },
  {
   "cell_type": "code",
   "execution_count": 26,
   "id": "790ad6d3-dd1b-4ead-acd0-2c42a5565b2d",
   "metadata": {},
   "outputs": [
    {
     "name": "stdout",
     "output_type": "stream",
     "text": [
      "(1, 2, 3, 4)\n"
     ]
    }
   ],
   "source": [
    "slice2=tuple[:4] #elements from start to index 3\n",
    "print(slice2)"
   ]
  },
  {
   "cell_type": "code",
   "execution_count": 27,
   "id": "93384884-5cff-4eb0-a5cf-3144f4f47455",
   "metadata": {},
   "outputs": [
    {
     "name": "stdout",
     "output_type": "stream",
     "text": [
      "(3, 4, 5, 6)\n"
     ]
    }
   ],
   "source": [
    "slice3=tuple[2:]#elements from index 2 to the end\n",
    "print(slice3)"
   ]
  },
  {
   "cell_type": "code",
   "execution_count": 28,
   "id": "f5f3bd33-f741-46ab-8f8f-dfe0de7d3c79",
   "metadata": {},
   "outputs": [
    {
     "name": "stdout",
     "output_type": "stream",
     "text": [
      "cherry\n"
     ]
    }
   ],
   "source": [
    "fruits=(\"apple\",\"banana\",\"cherry\",\"date\",\"elderberry\")\n",
    "cherry=fruits[2]\n",
    "print(cherry)"
   ]
  },
  {
   "cell_type": "code",
   "execution_count": 29,
   "id": "419f84b7-fb3c-45e2-abd6-b0bf800c78cf",
   "metadata": {},
   "outputs": [
    {
     "name": "stdout",
     "output_type": "stream",
     "text": [
      "(10, 20, 30)\n"
     ]
    }
   ],
   "source": [
    "numbers=(10,20,30,40,50)\n",
    "slice1=numbers[:3]\n",
    "print(slice1)"
   ]
  },
  {
   "cell_type": "code",
   "execution_count": 30,
   "id": "33329788-7bed-4e06-a8c6-f84407ac3209",
   "metadata": {},
   "outputs": [
    {
     "name": "stdout",
     "output_type": "stream",
     "text": [
      "purple\n"
     ]
    }
   ],
   "source": [
    "colors=(\"red\",\"green\",\"blue\",\"yellow\",\"purple\")\n",
    "last_element=colors[-1]\n",
    "print(last_element)"
   ]
  },
  {
   "cell_type": "code",
   "execution_count": 31,
   "id": "2f4e85b8-43df-4307-850c-75c396a67605",
   "metadata": {},
   "outputs": [
    {
     "name": "stdout",
     "output_type": "stream",
     "text": [
      "yellow\n"
     ]
    }
   ],
   "source": [
    "colors=(\"red\",\"green\",\"blue\",\"yellow\",\"purple\")\n",
    "last_element=colors[3]\n",
    "print(last_element)"
   ]
  },
  {
   "cell_type": "code",
   "execution_count": 32,
   "id": "a31dfa4c-6462-4de6-bdca-ec0c7796a06a",
   "metadata": {},
   "outputs": [
    {
     "name": "stdout",
     "output_type": "stream",
     "text": [
      "5\n"
     ]
    }
   ],
   "source": [
    "nested_tuple=(1,(2,3),(4,(5,6),7),8)\n",
    "element_five=nested_tuple[2][1][0]\n",
    "print(element_five)"
   ]
  },
  {
   "cell_type": "code",
   "execution_count": 33,
   "id": "19fc89e3-d314-44d0-9d62-a85621d7a2ef",
   "metadata": {},
   "outputs": [],
   "source": [
    "#editing a tuple\n"
   ]
  },
  {
   "cell_type": "code",
   "execution_count": 34,
   "id": "1356a2b5-3672-4c80-8064-0db88cd68dda",
   "metadata": {},
   "outputs": [
    {
     "data": {
      "text/plain": [
       "2"
      ]
     },
     "execution_count": 34,
     "metadata": {},
     "output_type": "execute_result"
    }
   ],
   "source": [
    "my_tuple=(\"a\",\"b\",\"c\",\"d\")\n",
    "my_tuple.index(\"c\")"
   ]
  },
  {
   "cell_type": "code",
   "execution_count": 35,
   "id": "f0918c93-6cf1-49e3-9133-226ec348fc91",
   "metadata": {},
   "outputs": [
    {
     "data": {
      "text/plain": [
       "4"
      ]
     },
     "execution_count": 35,
     "metadata": {},
     "output_type": "execute_result"
    }
   ],
   "source": [
    "#python functions on tuples\n",
    "len(my_tuple)\n"
   ]
  },
  {
   "cell_type": "code",
   "execution_count": 36,
   "id": "6cbedf16-dfbb-4dda-bb28-9b33d2527c93",
   "metadata": {},
   "outputs": [
    {
     "name": "stdout",
     "output_type": "stream",
     "text": [
      "3\n"
     ]
    }
   ],
   "source": [
    "my_tuple=(10,20,30)\n",
    "length=len(my_tuple)\n",
    "print(length)"
   ]
  },
  {
   "cell_type": "code",
   "execution_count": 37,
   "id": "423683c6-60c4-476c-8638-3b35aad0626b",
   "metadata": {},
   "outputs": [
    {
     "data": {
      "text/plain": [
       "654"
      ]
     },
     "execution_count": 37,
     "metadata": {},
     "output_type": "execute_result"
    }
   ],
   "source": [
    "t=(1,20,30,75,10,654)\n",
    "max(t)"
   ]
  },
  {
   "cell_type": "code",
   "execution_count": 38,
   "id": "56255569-fd91-44ad-ae9a-a28904c32edb",
   "metadata": {},
   "outputs": [
    {
     "data": {
      "text/plain": [
       "30"
      ]
     },
     "execution_count": 38,
     "metadata": {},
     "output_type": "execute_result"
    }
   ],
   "source": [
    "max(my_tuple)"
   ]
  },
  {
   "cell_type": "code",
   "execution_count": 39,
   "id": "b75a02c6-91eb-4b85-b1e7-73e708a438ff",
   "metadata": {},
   "outputs": [
    {
     "data": {
      "text/plain": [
       "1"
      ]
     },
     "execution_count": 39,
     "metadata": {},
     "output_type": "execute_result"
    }
   ],
   "source": [
    "min(t)"
   ]
  },
  {
   "cell_type": "code",
   "execution_count": 40,
   "id": "072b1b57-b819-41c8-91e7-f4e8affde9b2",
   "metadata": {},
   "outputs": [
    {
     "data": {
      "text/plain": [
       "10"
      ]
     },
     "execution_count": 40,
     "metadata": {},
     "output_type": "execute_result"
    }
   ],
   "source": [
    "min(my_tuple)"
   ]
  },
  {
   "cell_type": "code",
   "execution_count": 41,
   "id": "74ab127c-5164-4af8-9cac-b5825ba4e70c",
   "metadata": {},
   "outputs": [
    {
     "data": {
      "text/plain": [
       "60"
      ]
     },
     "execution_count": 41,
     "metadata": {},
     "output_type": "execute_result"
    }
   ],
   "source": [
    "sum(my_tuple)"
   ]
  },
  {
   "cell_type": "code",
   "execution_count": 42,
   "id": "a7750c15-5636-48f0-91d8-8682ed02b40f",
   "metadata": {},
   "outputs": [
    {
     "data": {
      "text/plain": [
       "[1, 10, 20, 30, 75, 654]"
      ]
     },
     "execution_count": 42,
     "metadata": {},
     "output_type": "execute_result"
    }
   ],
   "source": [
    "sorted(t)"
   ]
  },
  {
   "cell_type": "code",
   "execution_count": 43,
   "id": "daa08570-1f31-4d61-9efc-a320aa3e8f19",
   "metadata": {},
   "outputs": [
    {
     "data": {
      "text/plain": [
       "(1, 20, 30, 75, 10, 654)"
      ]
     },
     "execution_count": 43,
     "metadata": {},
     "output_type": "execute_result"
    }
   ],
   "source": [
    "t"
   ]
  },
  {
   "cell_type": "code",
   "execution_count": 44,
   "id": "9dcfb4b2-7d4d-422d-8a14-dcab22b364f2",
   "metadata": {},
   "outputs": [
    {
     "data": {
      "text/plain": [
       "92"
      ]
     },
     "execution_count": 44,
     "metadata": {},
     "output_type": "execute_result"
    }
   ],
   "source": [
    "exam_scores=(88,76,92,85,79)\n",
    "max(exam_scores)"
   ]
  },
  {
   "cell_type": "code",
   "execution_count": 45,
   "id": "a34d418f-3af3-448d-860d-0a9268d5dbdb",
   "metadata": {},
   "outputs": [
    {
     "data": {
      "text/plain": [
       "76"
      ]
     },
     "execution_count": 45,
     "metadata": {},
     "output_type": "execute_result"
    }
   ],
   "source": [
    "min(exam_scores)"
   ]
  },
  {
   "cell_type": "code",
   "execution_count": 46,
   "id": "377bb3e5-f1d1-4159-bb06-a25b13678141",
   "metadata": {},
   "outputs": [
    {
     "name": "stdout",
     "output_type": "stream",
     "text": [
      "True\n"
     ]
    }
   ],
   "source": [
    "cities=(\"new york\",\"los angeles\",\"paris\",\"london\",\"tokyo\")\n",
    "print(\"paris\" in cities)"
   ]
  },
  {
   "cell_type": "code",
   "execution_count": 47,
   "id": "c4bc987b-77fa-4fea-babb-1bf82e78f7e3",
   "metadata": {},
   "outputs": [
    {
     "name": "stdout",
     "output_type": "stream",
     "text": [
      "6000\n"
     ]
    }
   ],
   "source": [
    "rb=(\"length\",\"height\",\"width\")\n",
    "length=10\n",
    "height=20\n",
    "width=30\n",
    "volume=length*height*width\n",
    "print(volume)"
   ]
  },
  {
   "cell_type": "code",
   "execution_count": null,
   "id": "a2b62e27-51e1-494e-8f7c-1a4500d19372",
   "metadata": {},
   "outputs": [],
   "source": []
  },
  {
   "cell_type": "code",
   "execution_count": null,
   "id": "88f91e0d",
   "metadata": {},
   "outputs": [],
   "source": []
  }
 ],
 "metadata": {
  "kernelspec": {
   "display_name": "Python 3 (ipykernel)",
   "language": "python",
   "name": "python3"
  },
  "language_info": {
   "codemirror_mode": {
    "name": "ipython",
    "version": 3
   },
   "file_extension": ".py",
   "mimetype": "text/x-python",
   "name": "python",
   "nbconvert_exporter": "python",
   "pygments_lexer": "ipython3",
   "version": "3.9.12"
  }
 },
 "nbformat": 4,
 "nbformat_minor": 5
}
