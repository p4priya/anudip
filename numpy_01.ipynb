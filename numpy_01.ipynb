{
 "cells": [
  {
   "cell_type": "code",
   "execution_count": null,
   "id": "1f337ebb-69ac-493b-8b7a-b3916e4081a3",
   "metadata": {},
   "outputs": [],
   "source": [
    " # Using functions to generate data "
   ]
  },
  {
   "cell_type": "code",
   "execution_count": 93,
   "id": "3c38d070-7a3e-4c70-8761-48d6ecd9c45b",
   "metadata": {},
   "outputs": [],
   "source": [
    "a33 = np.ones((3,4))"
   ]
  },
  {
   "cell_type": "code",
   "execution_count": 94,
   "id": "d859149d-dd4b-42d8-8b82-6dac094aa89e",
   "metadata": {},
   "outputs": [
    {
     "data": {
      "text/plain": [
       "numpy.ndarray"
      ]
     },
     "execution_count": 94,
     "metadata": {},
     "output_type": "execute_result"
    }
   ],
   "source": [
    "type(a33)"
   ]
  },
  {
   "cell_type": "code",
   "execution_count": 95,
   "id": "4518827a-827a-4c50-a9b1-c442fe041c64",
   "metadata": {},
   "outputs": [
    {
     "data": {
      "text/plain": [
       "array([[1., 1., 1., 1.],\n",
       "       [1., 1., 1., 1.],\n",
       "       [1., 1., 1., 1.]])"
      ]
     },
     "execution_count": 95,
     "metadata": {},
     "output_type": "execute_result"
    }
   ],
   "source": [
    "a33"
   ]
  },
  {
   "cell_type": "code",
   "execution_count": 2,
   "id": "ae9021a5-aa2b-4636-a9f9-4db31e50a95b",
   "metadata": {},
   "outputs": [],
   "source": [
    "import numpy as np\n",
    "a44 = np.zeros((2,4))"
   ]
  },
  {
   "cell_type": "code",
   "execution_count": 3,
   "id": "26aaa39d-055f-4eac-a151-f427a4794e88",
   "metadata": {},
   "outputs": [
    {
     "data": {
      "text/plain": [
       "array([[0., 0., 0., 0.],\n",
       "       [0., 0., 0., 0.]])"
      ]
     },
     "execution_count": 3,
     "metadata": {},
     "output_type": "execute_result"
    }
   ],
   "source": [
    "a44"
   ]
  },
  {
   "cell_type": "code",
   "execution_count": 5,
   "id": "3e8032ea-c688-4688-b0bd-e3de5ebb1ade",
   "metadata": {},
   "outputs": [],
   "source": [
    "import numpy as np\n",
    "array1 = np.array([1,2,3])"
   ]
  },
  {
   "cell_type": "code",
   "execution_count": 6,
   "id": "f49254be-b5d9-4eab-9e73-a38b2d8aedc6",
   "metadata": {},
   "outputs": [
    {
     "data": {
      "text/plain": [
       "array([1, 2, 3])"
      ]
     },
     "execution_count": 6,
     "metadata": {},
     "output_type": "execute_result"
    }
   ],
   "source": [
    "array1"
   ]
  },
  {
   "cell_type": "code",
   "execution_count": 7,
   "id": "809fbc89-5276-41fd-b147-36b1cef8e2de",
   "metadata": {},
   "outputs": [],
   "source": [
    "import numpy as np\n",
    "zeros_array = np.zeros((3,3))"
   ]
  },
  {
   "cell_type": "code",
   "execution_count": 8,
   "id": "55552be7-4dcc-46c8-b783-f428f04732b3",
   "metadata": {},
   "outputs": [
    {
     "data": {
      "text/plain": [
       "array([[0., 0., 0.],\n",
       "       [0., 0., 0.],\n",
       "       [0., 0., 0.]])"
      ]
     },
     "execution_count": 8,
     "metadata": {},
     "output_type": "execute_result"
    }
   ],
   "source": [
    "zeros_array"
   ]
  },
  {
   "cell_type": "code",
   "execution_count": 9,
   "id": "950867f9-1e0d-44e3-875b-227656fee3bf",
   "metadata": {},
   "outputs": [],
   "source": [
    "ones_array = np.ones((1,1))"
   ]
  },
  {
   "cell_type": "code",
   "execution_count": 10,
   "id": "e83df615-4c4c-4301-9f09-1380e0304cec",
   "metadata": {},
   "outputs": [
    {
     "data": {
      "text/plain": [
       "array([[1.]])"
      ]
     },
     "execution_count": 10,
     "metadata": {},
     "output_type": "execute_result"
    }
   ],
   "source": [
    "ones_array"
   ]
  },
  {
   "cell_type": "markdown",
   "id": "f66aab4b-5a79-484b-99bc-fc7e22b193c4",
   "metadata": {},
   "source": [
    "### Specifying Data Type "
   ]
  },
  {
   "cell_type": "code",
   "execution_count": 11,
   "id": "c57fad0b-83c8-4435-955e-1e0f095f85a0",
   "metadata": {},
   "outputs": [],
   "source": [
    "l = [1,2,3,4]"
   ]
  },
  {
   "cell_type": "code",
   "execution_count": 12,
   "id": "5ed0da12-a65b-4f80-a457-b7ba26542037",
   "metadata": {},
   "outputs": [
    {
     "data": {
      "text/plain": [
       "array([1, 2, 3, 4])"
      ]
     },
     "execution_count": 12,
     "metadata": {},
     "output_type": "execute_result"
    }
   ],
   "source": [
    "np.array(l,dtype = np.int32)"
   ]
  },
  {
   "cell_type": "code",
   "execution_count": 13,
   "id": "886daddc-5b2a-441a-b5c0-6235e26392eb",
   "metadata": {},
   "outputs": [],
   "source": [
    "import numpy as np\n",
    "int_array = np.array([1,2,3], dtype=np.int32)\n",
    "float_array = np.array([0.1,0.2,0.3],dtype=np.float64)"
   ]
  },
  {
   "cell_type": "code",
   "execution_count": 16,
   "id": "30de9d43-92e3-418c-be25-1fa4a47cffa9",
   "metadata": {},
   "outputs": [
    {
     "data": {
      "text/plain": [
       "array([0.1, 0.2, 0.3])"
      ]
     },
     "execution_count": 16,
     "metadata": {},
     "output_type": "execute_result"
    }
   ],
   "source": [
    "int_array\n",
    "float_array"
   ]
  },
  {
   "cell_type": "markdown",
   "id": "c310f16a-2794-4226-9e9f-c3e8f671b892",
   "metadata": {},
   "source": [
    "### Using arange and linspace"
   ]
  },
  {
   "cell_type": "code",
   "execution_count": 18,
   "id": "9e311ce0-8fe3-4978-919f-64ddc6b0a772",
   "metadata": {},
   "outputs": [],
   "source": [
    "a44 = np.arange(0,12)"
   ]
  },
  {
   "cell_type": "code",
   "execution_count": 19,
   "id": "4e35bd76-3734-467e-a4f6-a8e56e73af01",
   "metadata": {},
   "outputs": [
    {
     "data": {
      "text/plain": [
       "array([ 0,  1,  2,  3,  4,  5,  6,  7,  8,  9, 10, 11])"
      ]
     },
     "execution_count": 19,
     "metadata": {},
     "output_type": "execute_result"
    }
   ],
   "source": [
    "a44"
   ]
  },
  {
   "cell_type": "code",
   "execution_count": 20,
   "id": "6ab1ddd4-e9eb-41ab-a086-d5e98668e44e",
   "metadata": {},
   "outputs": [],
   "source": [
    "a66 = np.arange(5,7)"
   ]
  },
  {
   "cell_type": "code",
   "execution_count": 21,
   "id": "5bcd269e-1c10-4f27-9ac9-e43790920794",
   "metadata": {},
   "outputs": [
    {
     "data": {
      "text/plain": [
       "array([5, 6])"
      ]
     },
     "execution_count": 21,
     "metadata": {},
     "output_type": "execute_result"
    }
   ],
   "source": [
    "a66"
   ]
  },
  {
   "cell_type": "code",
   "execution_count": 22,
   "id": "fec474d0-2f67-4571-a0fc-cffef35de3bb",
   "metadata": {},
   "outputs": [
    {
     "data": {
      "text/plain": [
       "array([ 0.,  2.,  4.,  6.,  8., 10.])"
      ]
     },
     "execution_count": 22,
     "metadata": {},
     "output_type": "execute_result"
    }
   ],
   "source": [
    "linspace_array_2 = np.linspace(0,10,6)\n",
    "linspace_array_2"
   ]
  },
  {
   "cell_type": "code",
   "execution_count": 23,
   "id": "22dc8821-65ef-4ad2-ac74-49a9033f872c",
   "metadata": {},
   "outputs": [
    {
     "data": {
      "text/plain": [
       "array([ 0.,  5., 10., 15.])"
      ]
     },
     "execution_count": 23,
     "metadata": {},
     "output_type": "execute_result"
    }
   ],
   "source": [
    "linspace_array_3 = np.linspace(0,15,4)\n",
    "linspace_array_3"
   ]
  },
  {
   "cell_type": "code",
   "execution_count": 24,
   "id": "43112813-9cc2-4f67-9742-a04b54ec2919",
   "metadata": {},
   "outputs": [],
   "source": [
    "zeros_array = np.zeros((3,3))\n",
    "ones_array = np.ones((2,4))\n",
    "identity_matrix = np.eye(3)"
   ]
  },
  {
   "cell_type": "code",
   "execution_count": 25,
   "id": "13ee2d20-ecc3-429f-a6d7-749db03d05ae",
   "metadata": {},
   "outputs": [],
   "source": [
    "random_array = np.random.rand(4,4)"
   ]
  },
  {
   "cell_type": "code",
   "execution_count": 26,
   "id": "8e72bfc3-34c1-486e-83dd-dcf94dfa75d4",
   "metadata": {},
   "outputs": [
    {
     "data": {
      "text/plain": [
       "array([[0.63550881, 0.61909202, 0.78951099, 0.57798449],\n",
       "       [0.91321147, 0.74254036, 0.49031755, 0.90023461],\n",
       "       [0.2360492 , 0.81386768, 0.12154749, 0.76106868],\n",
       "       [0.69481511, 0.21530392, 0.18913337, 0.83415134]])"
      ]
     },
     "execution_count": 26,
     "metadata": {},
     "output_type": "execute_result"
    }
   ],
   "source": [
    "random_array"
   ]
  },
  {
   "cell_type": "code",
   "execution_count": 27,
   "id": "e523be37-eeac-4b24-9bc6-10642ddaf747",
   "metadata": {},
   "outputs": [
    {
     "data": {
      "text/plain": [
       "array([[0., 0., 0.],\n",
       "       [0., 0., 0.],\n",
       "       [0., 0., 0.]])"
      ]
     },
     "execution_count": 27,
     "metadata": {},
     "output_type": "execute_result"
    }
   ],
   "source": [
    "zeros_array"
   ]
  },
  {
   "cell_type": "code",
   "execution_count": 28,
   "id": "547dd365-f571-4897-9b0e-8393c60eaa2d",
   "metadata": {},
   "outputs": [
    {
     "data": {
      "text/plain": [
       "array([[1., 1., 1., 1.],\n",
       "       [1., 1., 1., 1.]])"
      ]
     },
     "execution_count": 28,
     "metadata": {},
     "output_type": "execute_result"
    }
   ],
   "source": [
    "ones_array"
   ]
  },
  {
   "cell_type": "code",
   "execution_count": 29,
   "id": "732900fc-52ae-4b33-8394-54a6c352cd1d",
   "metadata": {},
   "outputs": [
    {
     "data": {
      "text/plain": [
       "array([[1., 0., 0.],\n",
       "       [0., 1., 0.],\n",
       "       [0., 0., 1.]])"
      ]
     },
     "execution_count": 29,
     "metadata": {},
     "output_type": "execute_result"
    }
   ],
   "source": [
    "identity_matrix"
   ]
  },
  {
   "cell_type": "markdown",
   "id": "aa3d48ba-92fa-4b17-bb65-bbb63795a9ec",
   "metadata": {},
   "source": [
    "## Basic Indexing"
   ]
  },
  {
   "cell_type": "code",
   "execution_count": 31,
   "id": "3877fe47-2d43-4e8a-8220-663ee4a1c95a",
   "metadata": {},
   "outputs": [
    {
     "name": "stdout",
     "output_type": "stream",
     "text": [
      "10\n",
      "40\n"
     ]
    }
   ],
   "source": [
    "import numpy as np\n",
    "arr = np.array([10,20,30,40])\n",
    "print(arr[0])\n",
    "print(arr[-1])"
   ]
  },
  {
   "cell_type": "code",
   "execution_count": 32,
   "id": "53394696-0ed8-45d0-8555-50390de61219",
   "metadata": {},
   "outputs": [],
   "source": [
    "# 2D  Example \n",
    "\n",
    "matrix = np.array([[1,2,3],\n",
    "                  [4,5,6]])"
   ]
  },
  {
   "cell_type": "code",
   "execution_count": 33,
   "id": "0da038f6-f858-454d-9d93-57bdb5d0a945",
   "metadata": {},
   "outputs": [
    {
     "name": "stdout",
     "output_type": "stream",
     "text": [
      "2\n",
      "6\n"
     ]
    }
   ],
   "source": [
    "print(matrix[0,1])\n",
    "print(matrix[1,2])      "
   ]
  },
  {
   "cell_type": "code",
   "execution_count": 35,
   "id": "48f215f6-68b4-4050-bd5c-38ade0a5e689",
   "metadata": {},
   "outputs": [
    {
     "name": "stdout",
     "output_type": "stream",
     "text": [
      "[20 30 40]\n",
      "[10 20 30]\n",
      "[10 30 50]\n",
      "[50 40 30 20 10]\n"
     ]
    }
   ],
   "source": [
    "# 1D Array Slicing\n",
    "\n",
    "import numpy as np\n",
    "arr = np.array([10,20,30,40,50])\n",
    "print(arr[1:4])\n",
    "print(arr[:3])\n",
    "print(arr[::2])\n",
    "print(arr[::-1])"
   ]
  },
  {
   "cell_type": "code",
   "execution_count": 36,
   "id": "88432091-5af7-4361-8ec4-3a63d2215b7e",
   "metadata": {},
   "outputs": [
    {
     "name": "stdout",
     "output_type": "stream",
     "text": [
      "[[2 3]\n",
      " [5 6]]\n"
     ]
    }
   ],
   "source": [
    "# 2D Array Slicing\n",
    "\n",
    "matrix = np.array([[1,2,3],\n",
    "                   [4,5,6],\n",
    "                   [7,8,9]])\n",
    "\n",
    "print(matrix[0:2,1:3])"
   ]
  },
  {
   "cell_type": "code",
   "execution_count": 50,
   "id": "c2bc1425-19a4-4730-90cd-8a84b66aeaaf",
   "metadata": {},
   "outputs": [
    {
     "name": "stdout",
     "output_type": "stream",
     "text": [
      "[[8]]\n"
     ]
    }
   ],
   "source": [
    "print(matrix[2:3,1:2])"
   ]
  },
  {
   "cell_type": "code",
   "execution_count": 57,
   "id": "6336d7cb-8b2c-49f2-b5b9-2315f6100cc0",
   "metadata": {},
   "outputs": [
    {
     "name": "stdout",
     "output_type": "stream",
     "text": [
      "[[5 6]]\n"
     ]
    }
   ],
   "source": [
    "print(matrix[1:2,1:3])"
   ]
  },
  {
   "cell_type": "code",
   "execution_count": 66,
   "id": "d6198082-0fb0-4b1f-896e-4242e25c6c90",
   "metadata": {},
   "outputs": [
    {
     "name": "stdout",
     "output_type": "stream",
     "text": [
      "[ 1 99  3  4]\n"
     ]
    }
   ],
   "source": [
    "# NumPy View \n",
    "\n",
    "a = np.array([1,2,3,4])\n",
    "b = a[1:3]\n",
    "b[0] = 99\n",
    "print(a)"
   ]
  },
  {
   "cell_type": "code",
   "execution_count": 67,
   "id": "9b13a95b-0e35-4a16-8236-13305fc300ec",
   "metadata": {},
   "outputs": [],
   "source": [
    "a = np.array([1,2,3,4])"
   ]
  },
  {
   "cell_type": "code",
   "execution_count": 68,
   "id": "ede8d643-e299-436f-b27b-cabcdc26b4c9",
   "metadata": {},
   "outputs": [],
   "source": [
    "b = a[1:3]"
   ]
  },
  {
   "cell_type": "code",
   "execution_count": 69,
   "id": "e7089438-565d-47b0-b5b2-2ac1550dccb1",
   "metadata": {},
   "outputs": [
    {
     "data": {
      "text/plain": [
       "array([1, 2, 3, 4])"
      ]
     },
     "execution_count": 69,
     "metadata": {},
     "output_type": "execute_result"
    }
   ],
   "source": [
    "a"
   ]
  },
  {
   "cell_type": "code",
   "execution_count": 70,
   "id": "bd20700c-887f-4106-ad8f-2f06be81ec24",
   "metadata": {},
   "outputs": [
    {
     "data": {
      "text/plain": [
       "array([2, 3])"
      ]
     },
     "execution_count": 70,
     "metadata": {},
     "output_type": "execute_result"
    }
   ],
   "source": [
    "b"
   ]
  },
  {
   "cell_type": "code",
   "execution_count": null,
   "id": "0f39139f-21db-4deb-8d48-a8c991d99eb1",
   "metadata": {},
   "outputs": [],
   "source": [
    "# Copy\n",
    "\n",
    "a = np.array([1,2,3,4])"
   ]
  },
  {
   "cell_type": "code",
   "execution_count": 71,
   "id": "c6062b13-1ea3-4e41-8708-96f85876ebb8",
   "metadata": {},
   "outputs": [],
   "source": [
    "b = a[1:3].copy()"
   ]
  },
  {
   "cell_type": "code",
   "execution_count": 72,
   "id": "5db189ff-dbe5-4339-a4d2-ec635d4341d7",
   "metadata": {},
   "outputs": [],
   "source": [
    "b[0] = 99"
   ]
  },
  {
   "cell_type": "code",
   "execution_count": 73,
   "id": "82411059-7035-42c5-b09a-7ba300dc5049",
   "metadata": {},
   "outputs": [
    {
     "name": "stdout",
     "output_type": "stream",
     "text": [
      "[1 2 3 4]\n"
     ]
    }
   ],
   "source": [
    "print(a)"
   ]
  },
  {
   "cell_type": "code",
   "execution_count": 74,
   "id": "34f7315c-25b2-473a-b9a2-1592eb82c2a1",
   "metadata": {},
   "outputs": [
    {
     "name": "stdout",
     "output_type": "stream",
     "text": [
      "[99  3]\n"
     ]
    }
   ],
   "source": [
    "print(b)"
   ]
  },
  {
   "cell_type": "code",
   "execution_count": 76,
   "id": "b41c2c5f-4e04-4691-9f1e-8c2cad6e0718",
   "metadata": {},
   "outputs": [
    {
     "name": "stdout",
     "output_type": "stream",
     "text": [
      "(2, 3)\n"
     ]
    }
   ],
   "source": [
    "# shape \n",
    "arr = np.array([[1,2,3],[4,5,6]])\n",
    "print(arr.shape)"
   ]
  },
  {
   "cell_type": "code",
   "execution_count": 77,
   "id": "24290acb-07a2-4dce-879f-02baf31df357",
   "metadata": {},
   "outputs": [],
   "source": [
    "# Reshape \n",
    "a = np.arange(12)"
   ]
  },
  {
   "cell_type": "code",
   "execution_count": 78,
   "id": "5d3d9bc7-37f1-4a99-b6c3-b3e7abca9c07",
   "metadata": {},
   "outputs": [
    {
     "data": {
      "text/plain": [
       "array([ 0,  1,  2,  3,  4,  5,  6,  7,  8,  9, 10, 11])"
      ]
     },
     "execution_count": 78,
     "metadata": {},
     "output_type": "execute_result"
    }
   ],
   "source": [
    "a"
   ]
  },
  {
   "cell_type": "code",
   "execution_count": 81,
   "id": "eaddfc0b-6a7d-4a96-98a9-e5855b3dca74",
   "metadata": {},
   "outputs": [],
   "source": [
    "b = a.reshape(3,4)"
   ]
  },
  {
   "cell_type": "code",
   "execution_count": 82,
   "id": "c0e2dcd9-ca6d-460b-92a8-201116a7b543",
   "metadata": {},
   "outputs": [
    {
     "data": {
      "text/plain": [
       "array([[ 0,  1,  2,  3],\n",
       "       [ 4,  5,  6,  7],\n",
       "       [ 8,  9, 10, 11]])"
      ]
     },
     "execution_count": 82,
     "metadata": {},
     "output_type": "execute_result"
    }
   ],
   "source": [
    "b"
   ]
  },
  {
   "cell_type": "code",
   "execution_count": 83,
   "id": "47dccee5-ed81-4b3d-932a-4063fc90598a",
   "metadata": {},
   "outputs": [],
   "source": [
    "c = a.reshape(12,1)"
   ]
  },
  {
   "cell_type": "code",
   "execution_count": 84,
   "id": "ebbe3500-5fdb-46ba-9fdb-646b6ff3a1bc",
   "metadata": {},
   "outputs": [
    {
     "data": {
      "text/plain": [
       "array([[ 0],\n",
       "       [ 1],\n",
       "       [ 2],\n",
       "       [ 3],\n",
       "       [ 4],\n",
       "       [ 5],\n",
       "       [ 6],\n",
       "       [ 7],\n",
       "       [ 8],\n",
       "       [ 9],\n",
       "       [10],\n",
       "       [11]])"
      ]
     },
     "execution_count": 84,
     "metadata": {},
     "output_type": "execute_result"
    }
   ],
   "source": [
    "c"
   ]
  },
  {
   "cell_type": "code",
   "execution_count": 87,
   "id": "323fb259-7534-40b3-a5fc-330042aa15ad",
   "metadata": {},
   "outputs": [],
   "source": [
    "# transpose\n",
    "arr_3d = np.array([[0,1,2,3],\n",
    "                   [4,5,6,7],\n",
    "                   [8,9,10,11]])"
   ]
  },
  {
   "cell_type": "code",
   "execution_count": 89,
   "id": "eaa7ddc9-a480-4813-af29-334f432de554",
   "metadata": {},
   "outputs": [
    {
     "data": {
      "text/plain": [
       "array([[ 0,  4,  8],\n",
       "       [ 1,  5,  9],\n",
       "       [ 2,  6, 10],\n",
       "       [ 3,  7, 11]])"
      ]
     },
     "execution_count": 89,
     "metadata": {},
     "output_type": "execute_result"
    }
   ],
   "source": [
    "arr_3d.transpose()"
   ]
  },
  {
   "cell_type": "code",
   "execution_count": null,
   "id": "f979fa02-996f-4ee4-877d-806eb6a70268",
   "metadata": {},
   "outputs": [],
   "source": []
  }
 ],
 "metadata": {
  "kernelspec": {
   "display_name": "Python 3 (ipykernel)",
   "language": "python",
   "name": "python3"
  },
  "language_info": {
   "codemirror_mode": {
    "name": "ipython",
    "version": 3
   },
   "file_extension": ".py",
   "mimetype": "text/x-python",
   "name": "python",
   "nbconvert_exporter": "python",
   "pygments_lexer": "ipython3",
   "version": "3.9.12"
  }
 },
 "nbformat": 4,
 "nbformat_minor": 5
}
