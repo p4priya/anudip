{
 "cells": [
  {
   "cell_type": "markdown",
   "id": "8f212cf8",
   "metadata": {},
   "source": [
    "# Functions"
   ]
  },
  {
   "cell_type": "code",
   "execution_count": 1,
   "id": "d88e86e8",
   "metadata": {},
   "outputs": [],
   "source": [
    "it is a block of code that perform a specific tasks.\n",
    "-->if defines using def() keyword followed by the function name and paranthesis.\n",
    "syntax:\n",
    "    def function_name()"
   ]
  },
  {
   "cell_type": "code",
   "execution_count": 11,
   "id": "5a0eb48e",
   "metadata": {},
   "outputs": [],
   "source": [
    "def add_two():\n",
    "    a=10\n",
    "    b=20\n",
    "    c=30\n",
    "    print(c)"
   ]
  },
  {
   "cell_type": "code",
   "execution_count": 12,
   "id": "99791deb",
   "metadata": {},
   "outputs": [
    {
     "name": "stdout",
     "output_type": "stream",
     "text": [
      "30\n"
     ]
    }
   ],
   "source": [
    "add_two()"
   ]
  },
  {
   "cell_type": "code",
   "execution_count": 10,
   "id": "ebcc6ce3",
   "metadata": {},
   "outputs": [],
   "source": [
    "def greet():\n",
    "    print(\"hello,world\")"
   ]
  },
  {
   "cell_type": "code",
   "execution_count": 5,
   "id": "3fb34302",
   "metadata": {},
   "outputs": [],
   "source": [
    "def greet():\n",
    "    name=input(\"enter your name\")\n",
    "    print(f\"hello{name} welcome to the party\")"
   ]
  },
  {
   "cell_type": "code",
   "execution_count": 9,
   "id": "d353b29f",
   "metadata": {},
   "outputs": [
    {
     "name": "stdout",
     "output_type": "stream",
     "text": [
      "enter your name Sri\n",
      "hello Sri welcome to the party\n"
     ]
    }
   ],
   "source": [
    "greet()"
   ]
  },
  {
   "cell_type": "code",
   "execution_count": 14,
   "id": "e0f40bf3",
   "metadata": {},
   "outputs": [
    {
     "name": "stdout",
     "output_type": "stream",
     "text": [
      "10\n"
     ]
    }
   ],
   "source": [
    "#separate function for subtraction\n",
    "def sub():\n",
    "    x=10\n",
    "    y=20\n",
    "    c=y-x\n",
    "    print(c)\n",
    "\n",
    "sub()"
   ]
  },
  {
   "cell_type": "code",
   "execution_count": 21,
   "id": "23a39389",
   "metadata": {},
   "outputs": [
    {
     "name": "stdout",
     "output_type": "stream",
     "text": [
      "30\n"
     ]
    }
   ],
   "source": [
    "#separate function for Addition\n",
    "def add():\n",
    "    x=10\n",
    "    y=20\n",
    "    c=y+x\n",
    "    print(c)\n",
    "\n",
    "add()\n",
    "    "
   ]
  },
  {
   "cell_type": "code",
   "execution_count": 22,
   "id": "34331cb1",
   "metadata": {},
   "outputs": [
    {
     "name": "stdout",
     "output_type": "stream",
     "text": [
      "30\n"
     ]
    }
   ],
   "source": [
    "def func1():\n",
    "    a=10\n",
    "    b=20\n",
    "    c=a+b\n",
    "    print(c)\n",
    "func1()"
   ]
  },
  {
   "cell_type": "markdown",
   "id": "258adbfb",
   "metadata": {},
   "source": [
    "# basic calculator\n",
    "write a function that performs addition,multiplication,anf division based on user i/p but doesnt return anything."
   ]
  },
  {
   "cell_type": "code",
   "execution_count": 23,
   "id": "cd472a78",
   "metadata": {},
   "outputs": [
    {
     "name": "stdout",
     "output_type": "stream",
     "text": [
      "200\n"
     ]
    }
   ],
   "source": [
    "#separate function for Multiplication\n",
    "def multiply():\n",
    "    x=10\n",
    "    y=20\n",
    "    c=y*x\n",
    "    print(c)\n",
    "\n",
    "multiply()"
   ]
  },
  {
   "cell_type": "code",
   "execution_count": 25,
   "id": "7bb04c59",
   "metadata": {},
   "outputs": [
    {
     "name": "stdout",
     "output_type": "stream",
     "text": [
      "0.5\n"
     ]
    }
   ],
   "source": [
    "#separate function for Division\n",
    "def divide():\n",
    "    x=10\n",
    "    y=20\n",
    "    c=x/y\n",
    "    print(c)\n",
    "\n",
    "divide()"
   ]
  },
  {
   "cell_type": "code",
   "execution_count": 26,
   "id": "b7e3de62",
   "metadata": {},
   "outputs": [
    {
     "ename": "SyntaxError",
     "evalue": "invalid syntax (1534614095.py, line 6)",
     "output_type": "error",
     "traceback": [
      "\u001b[1;36m  Input \u001b[1;32mIn [26]\u001b[1;36m\u001b[0m\n\u001b[1;33m    if operation==\"+:\"\u001b[0m\n\u001b[1;37m                      ^\u001b[0m\n\u001b[1;31mSyntaxError\u001b[0m\u001b[1;31m:\u001b[0m invalid syntax\n"
     ]
    }
   ],
   "source": [
    "def calculator():\n",
    "    operation=input(\"enter operation(+,-,*,/):\")\n",
    "    num1=int(input(\"Enter the first number:\"))\n",
    "    num2=int(input(\"Enter the second number:\"))\n",
    "    \n",
    "    if operation==\"+:\"\n",
    "    print(10+20)"
   ]
  },
  {
   "cell_type": "code",
   "execution_count": 27,
   "id": "153270e2",
   "metadata": {},
   "outputs": [],
   "source": [
    "def countdown():\n",
    "    num=int(input(\"Enter a number to start the countdown:\"))\n",
    "    while num>=0:\n",
    "        print(num)\n",
    "        num-=1"
   ]
  },
  {
   "cell_type": "code",
   "execution_count": 34,
   "id": "050aedd4",
   "metadata": {},
   "outputs": [
    {
     "name": "stdout",
     "output_type": "stream",
     "text": [
      "4 x 1 = 4\n",
      "4 x 2 = 8\n",
      "4 x 3 = 12\n",
      "4 x 4 = 16\n",
      "4 x 5 = 20\n",
      "4 x 6 = 24\n",
      "4 x 7 = 28\n",
      "4 x 8 = 32\n",
      "4 x 9 = 36\n",
      "4 x 10 = 40\n"
     ]
    }
   ],
   "source": [
    "# Multiplication table of 4\n",
    "\n",
    "for i in range(1, 11):\n",
    "        print(f\"4 x {i} = {4 * i}\")"
   ]
  },
  {
   "cell_type": "markdown",
   "id": "9b108545",
   "metadata": {},
   "source": [
    "## Parameters & Arguments\n"
   ]
  },
  {
   "cell_type": "code",
   "execution_count": 1,
   "id": "b077b836",
   "metadata": {},
   "outputs": [],
   "source": [
    "def func3():\n",
    "    a=100\n",
    "    b=20\n",
    "    c=a+b\n",
    "    return c"
   ]
  },
  {
   "cell_type": "code",
   "execution_count": 2,
   "id": "1bde6a83",
   "metadata": {},
   "outputs": [],
   "source": [
    "var=func3()"
   ]
  },
  {
   "cell_type": "code",
   "execution_count": null,
   "id": "f1b2497c",
   "metadata": {},
   "outputs": [],
   "source": []
  }
 ],
 "metadata": {
  "kernelspec": {
   "display_name": "Python 3 (ipykernel)",
   "language": "python",
   "name": "python3"
  },
  "language_info": {
   "codemirror_mode": {
    "name": "ipython",
    "version": 3
   },
   "file_extension": ".py",
   "mimetype": "text/x-python",
   "name": "python",
   "nbconvert_exporter": "python",
   "pygments_lexer": "ipython3",
   "version": "3.9.12"
  }
 },
 "nbformat": 4,
 "nbformat_minor": 5
}
